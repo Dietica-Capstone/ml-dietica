{
 "cells": [
  {
   "cell_type": "code",
   "execution_count": 1,
   "metadata": {
    "id": "cBORq1Y3VQ6J"
   },
   "outputs": [],
   "source": [
    "import pandas as pd\n",
    "import numpy as np\n",
    "import matplotlib.pyplot as plt"
   ]
  },
  {
   "cell_type": "markdown",
   "metadata": {
    "id": "fI2SejX_c5GE"
   },
   "source": [
    "# load dataset"
   ]
  },
  {
   "cell_type": "code",
   "execution_count": null,
   "metadata": {
    "colab": {
     "base_uri": "https://localhost:8080/"
    },
    "id": "nxYfwyiTPVsu",
    "outputId": "6f83f560-41a7-47c9-e65b-db82b5b043fb"
   },
   "outputs": [
    {
     "name": "stdout",
     "output_type": "stream",
     "text": [
      "Drive already mounted at /content/drive; to attempt to forcibly remount, call drive.mount(\"/content/drive\", force_remount=True).\n"
     ]
    }
   ],
   "source": [
    "# from google.colab import drive\n",
    "# drive.mount('/content/drive')"
   ]
  },
  {
   "cell_type": "code",
   "execution_count": null,
   "metadata": {
    "id": "UqnpUfcePiq2"
   },
   "outputs": [],
   "source": [
    "# file_path = '/content/drive/MyDrive/Capstone/ML/model rekomendasi/dataset/recipes.csv'\n",
    "# #menampilkan semua kolom\n",
    "# pd.set_option('display.max_columns', None)\n",
    "# df = pd.read_csv(file_path)"
   ]
  },
  {
   "cell_type": "code",
   "execution_count": 2,
   "metadata": {},
   "outputs": [],
   "source": [
    "df = pd.read_csv('./dataset/recipes.csv')"
   ]
  },
  {
   "cell_type": "code",
   "execution_count": 3,
   "metadata": {
    "colab": {
     "base_uri": "https://localhost:8080/",
     "height": 573
    },
    "id": "dA-y_1Q1RIdB",
    "outputId": "379a3f94-5d2f-4944-8b3e-23ca74abe06d"
   },
   "outputs": [
    {
     "data": {
      "text/html": [
       "<div>\n",
       "<style scoped>\n",
       "    .dataframe tbody tr th:only-of-type {\n",
       "        vertical-align: middle;\n",
       "    }\n",
       "\n",
       "    .dataframe tbody tr th {\n",
       "        vertical-align: top;\n",
       "    }\n",
       "\n",
       "    .dataframe thead th {\n",
       "        text-align: right;\n",
       "    }\n",
       "</style>\n",
       "<table border=\"1\" class=\"dataframe\">\n",
       "  <thead>\n",
       "    <tr style=\"text-align: right;\">\n",
       "      <th></th>\n",
       "      <th>RecipeId</th>\n",
       "      <th>Name</th>\n",
       "      <th>AuthorId</th>\n",
       "      <th>AuthorName</th>\n",
       "      <th>CookTime</th>\n",
       "      <th>PrepTime</th>\n",
       "      <th>TotalTime</th>\n",
       "      <th>DatePublished</th>\n",
       "      <th>Description</th>\n",
       "      <th>Images</th>\n",
       "      <th>...</th>\n",
       "      <th>SaturatedFatContent</th>\n",
       "      <th>CholesterolContent</th>\n",
       "      <th>SodiumContent</th>\n",
       "      <th>CarbohydrateContent</th>\n",
       "      <th>FiberContent</th>\n",
       "      <th>SugarContent</th>\n",
       "      <th>ProteinContent</th>\n",
       "      <th>RecipeServings</th>\n",
       "      <th>RecipeYield</th>\n",
       "      <th>RecipeInstructions</th>\n",
       "    </tr>\n",
       "  </thead>\n",
       "  <tbody>\n",
       "    <tr>\n",
       "      <th>0</th>\n",
       "      <td>38</td>\n",
       "      <td>Low-Fat Berry Blue Frozen Dessert</td>\n",
       "      <td>1533</td>\n",
       "      <td>Dancer</td>\n",
       "      <td>PT24H</td>\n",
       "      <td>PT45M</td>\n",
       "      <td>PT24H45M</td>\n",
       "      <td>1999-08-09T21:46:00Z</td>\n",
       "      <td>Make and share this Low-Fat Berry Blue Frozen ...</td>\n",
       "      <td>c(\"https://img.sndimg.com/food/image/upload/w_...</td>\n",
       "      <td>...</td>\n",
       "      <td>1.3</td>\n",
       "      <td>8.0</td>\n",
       "      <td>29.8</td>\n",
       "      <td>37.1</td>\n",
       "      <td>3.6</td>\n",
       "      <td>30.2</td>\n",
       "      <td>3.2</td>\n",
       "      <td>4.0</td>\n",
       "      <td>NaN</td>\n",
       "      <td>c(\"Toss 2 cups berries with sugar.\", \"Let stan...</td>\n",
       "    </tr>\n",
       "    <tr>\n",
       "      <th>1</th>\n",
       "      <td>39</td>\n",
       "      <td>Biryani</td>\n",
       "      <td>1567</td>\n",
       "      <td>elly9812</td>\n",
       "      <td>PT25M</td>\n",
       "      <td>PT4H</td>\n",
       "      <td>PT4H25M</td>\n",
       "      <td>1999-08-29T13:12:00Z</td>\n",
       "      <td>Make and share this Biryani recipe from Food.com.</td>\n",
       "      <td>c(\"https://img.sndimg.com/food/image/upload/w_...</td>\n",
       "      <td>...</td>\n",
       "      <td>16.6</td>\n",
       "      <td>372.8</td>\n",
       "      <td>368.4</td>\n",
       "      <td>84.4</td>\n",
       "      <td>9.0</td>\n",
       "      <td>20.4</td>\n",
       "      <td>63.4</td>\n",
       "      <td>6.0</td>\n",
       "      <td>NaN</td>\n",
       "      <td>c(\"Soak saffron in warm milk for 5 minutes and...</td>\n",
       "    </tr>\n",
       "    <tr>\n",
       "      <th>2</th>\n",
       "      <td>40</td>\n",
       "      <td>Best Lemonade</td>\n",
       "      <td>1566</td>\n",
       "      <td>Stephen Little</td>\n",
       "      <td>PT5M</td>\n",
       "      <td>PT30M</td>\n",
       "      <td>PT35M</td>\n",
       "      <td>1999-09-05T19:52:00Z</td>\n",
       "      <td>This is from one of my  first Good House Keepi...</td>\n",
       "      <td>c(\"https://img.sndimg.com/food/image/upload/w_...</td>\n",
       "      <td>...</td>\n",
       "      <td>0.0</td>\n",
       "      <td>0.0</td>\n",
       "      <td>1.8</td>\n",
       "      <td>81.5</td>\n",
       "      <td>0.4</td>\n",
       "      <td>77.2</td>\n",
       "      <td>0.3</td>\n",
       "      <td>4.0</td>\n",
       "      <td>NaN</td>\n",
       "      <td>c(\"Into a 1 quart Jar with tight fitting lid, ...</td>\n",
       "    </tr>\n",
       "    <tr>\n",
       "      <th>3</th>\n",
       "      <td>41</td>\n",
       "      <td>Carina's Tofu-Vegetable Kebabs</td>\n",
       "      <td>1586</td>\n",
       "      <td>Cyclopz</td>\n",
       "      <td>PT20M</td>\n",
       "      <td>PT24H</td>\n",
       "      <td>PT24H20M</td>\n",
       "      <td>1999-09-03T14:54:00Z</td>\n",
       "      <td>This dish is best prepared a day in advance to...</td>\n",
       "      <td>c(\"https://img.sndimg.com/food/image/upload/w_...</td>\n",
       "      <td>...</td>\n",
       "      <td>3.8</td>\n",
       "      <td>0.0</td>\n",
       "      <td>1558.6</td>\n",
       "      <td>64.2</td>\n",
       "      <td>17.3</td>\n",
       "      <td>32.1</td>\n",
       "      <td>29.3</td>\n",
       "      <td>2.0</td>\n",
       "      <td>4 kebabs</td>\n",
       "      <td>c(\"Drain the tofu, carefully squeezing out exc...</td>\n",
       "    </tr>\n",
       "    <tr>\n",
       "      <th>4</th>\n",
       "      <td>42</td>\n",
       "      <td>Cabbage Soup</td>\n",
       "      <td>1538</td>\n",
       "      <td>Duckie067</td>\n",
       "      <td>PT30M</td>\n",
       "      <td>PT20M</td>\n",
       "      <td>PT50M</td>\n",
       "      <td>1999-09-19T06:19:00Z</td>\n",
       "      <td>Make and share this Cabbage Soup recipe from F...</td>\n",
       "      <td>\"https://img.sndimg.com/food/image/upload/w_55...</td>\n",
       "      <td>...</td>\n",
       "      <td>0.1</td>\n",
       "      <td>0.0</td>\n",
       "      <td>959.3</td>\n",
       "      <td>25.1</td>\n",
       "      <td>4.8</td>\n",
       "      <td>17.7</td>\n",
       "      <td>4.3</td>\n",
       "      <td>4.0</td>\n",
       "      <td>NaN</td>\n",
       "      <td>c(\"Mix everything together and bring to a boil...</td>\n",
       "    </tr>\n",
       "  </tbody>\n",
       "</table>\n",
       "<p>5 rows × 28 columns</p>\n",
       "</div>"
      ],
      "text/plain": [
       "   RecipeId                               Name  AuthorId      AuthorName  \\\n",
       "0        38  Low-Fat Berry Blue Frozen Dessert      1533          Dancer   \n",
       "1        39                            Biryani      1567        elly9812   \n",
       "2        40                      Best Lemonade      1566  Stephen Little   \n",
       "3        41     Carina's Tofu-Vegetable Kebabs      1586         Cyclopz   \n",
       "4        42                       Cabbage Soup      1538       Duckie067   \n",
       "\n",
       "  CookTime PrepTime TotalTime         DatePublished  \\\n",
       "0    PT24H    PT45M  PT24H45M  1999-08-09T21:46:00Z   \n",
       "1    PT25M     PT4H   PT4H25M  1999-08-29T13:12:00Z   \n",
       "2     PT5M    PT30M     PT35M  1999-09-05T19:52:00Z   \n",
       "3    PT20M    PT24H  PT24H20M  1999-09-03T14:54:00Z   \n",
       "4    PT30M    PT20M     PT50M  1999-09-19T06:19:00Z   \n",
       "\n",
       "                                         Description  \\\n",
       "0  Make and share this Low-Fat Berry Blue Frozen ...   \n",
       "1  Make and share this Biryani recipe from Food.com.   \n",
       "2  This is from one of my  first Good House Keepi...   \n",
       "3  This dish is best prepared a day in advance to...   \n",
       "4  Make and share this Cabbage Soup recipe from F...   \n",
       "\n",
       "                                              Images  ... SaturatedFatContent  \\\n",
       "0  c(\"https://img.sndimg.com/food/image/upload/w_...  ...                 1.3   \n",
       "1  c(\"https://img.sndimg.com/food/image/upload/w_...  ...                16.6   \n",
       "2  c(\"https://img.sndimg.com/food/image/upload/w_...  ...                 0.0   \n",
       "3  c(\"https://img.sndimg.com/food/image/upload/w_...  ...                 3.8   \n",
       "4  \"https://img.sndimg.com/food/image/upload/w_55...  ...                 0.1   \n",
       "\n",
       "  CholesterolContent SodiumContent CarbohydrateContent  FiberContent  \\\n",
       "0                8.0          29.8                37.1           3.6   \n",
       "1              372.8         368.4                84.4           9.0   \n",
       "2                0.0           1.8                81.5           0.4   \n",
       "3                0.0        1558.6                64.2          17.3   \n",
       "4                0.0         959.3                25.1           4.8   \n",
       "\n",
       "   SugarContent  ProteinContent  RecipeServings  RecipeYield  \\\n",
       "0          30.2             3.2             4.0          NaN   \n",
       "1          20.4            63.4             6.0          NaN   \n",
       "2          77.2             0.3             4.0          NaN   \n",
       "3          32.1            29.3             2.0     4 kebabs   \n",
       "4          17.7             4.3             4.0          NaN   \n",
       "\n",
       "                                  RecipeInstructions  \n",
       "0  c(\"Toss 2 cups berries with sugar.\", \"Let stan...  \n",
       "1  c(\"Soak saffron in warm milk for 5 minutes and...  \n",
       "2  c(\"Into a 1 quart Jar with tight fitting lid, ...  \n",
       "3  c(\"Drain the tofu, carefully squeezing out exc...  \n",
       "4  c(\"Mix everything together and bring to a boil...  \n",
       "\n",
       "[5 rows x 28 columns]"
      ]
     },
     "execution_count": 3,
     "metadata": {},
     "output_type": "execute_result"
    }
   ],
   "source": [
    "df.head()"
   ]
  },
  {
   "cell_type": "markdown",
   "metadata": {
    "id": "t6H04zTfc_sw"
   },
   "source": [
    "# data preprocessing"
   ]
  },
  {
   "cell_type": "code",
   "execution_count": 4,
   "metadata": {
    "colab": {
     "base_uri": "https://localhost:8080/",
     "height": 573
    },
    "id": "V5jpt21AdCNy",
    "outputId": "af0d59e4-a2fa-435f-b531-961565b5b98e"
   },
   "outputs": [
    {
     "data": {
      "text/html": [
       "<div>\n",
       "<style scoped>\n",
       "    .dataframe tbody tr th:only-of-type {\n",
       "        vertical-align: middle;\n",
       "    }\n",
       "\n",
       "    .dataframe tbody tr th {\n",
       "        vertical-align: top;\n",
       "    }\n",
       "\n",
       "    .dataframe thead th {\n",
       "        text-align: right;\n",
       "    }\n",
       "</style>\n",
       "<table border=\"1\" class=\"dataframe\">\n",
       "  <thead>\n",
       "    <tr style=\"text-align: right;\">\n",
       "      <th></th>\n",
       "      <th>RecipeId</th>\n",
       "      <th>Name</th>\n",
       "      <th>AuthorId</th>\n",
       "      <th>AuthorName</th>\n",
       "      <th>CookTime</th>\n",
       "      <th>PrepTime</th>\n",
       "      <th>TotalTime</th>\n",
       "      <th>DatePublished</th>\n",
       "      <th>Description</th>\n",
       "      <th>Images</th>\n",
       "      <th>...</th>\n",
       "      <th>SaturatedFatContent</th>\n",
       "      <th>CholesterolContent</th>\n",
       "      <th>SodiumContent</th>\n",
       "      <th>CarbohydrateContent</th>\n",
       "      <th>FiberContent</th>\n",
       "      <th>SugarContent</th>\n",
       "      <th>ProteinContent</th>\n",
       "      <th>RecipeServings</th>\n",
       "      <th>RecipeYield</th>\n",
       "      <th>RecipeInstructions</th>\n",
       "    </tr>\n",
       "  </thead>\n",
       "  <tbody>\n",
       "    <tr>\n",
       "      <th>0</th>\n",
       "      <td>38</td>\n",
       "      <td>Low-Fat Berry Blue Frozen Dessert</td>\n",
       "      <td>1533</td>\n",
       "      <td>Dancer</td>\n",
       "      <td>PT24H</td>\n",
       "      <td>PT45M</td>\n",
       "      <td>PT24H45M</td>\n",
       "      <td>1999-08-09T21:46:00Z</td>\n",
       "      <td>Make and share this Low-Fat Berry Blue Frozen ...</td>\n",
       "      <td>c(\"https://img.sndimg.com/food/image/upload/w_...</td>\n",
       "      <td>...</td>\n",
       "      <td>1.3</td>\n",
       "      <td>8.0</td>\n",
       "      <td>29.8</td>\n",
       "      <td>37.1</td>\n",
       "      <td>3.6</td>\n",
       "      <td>30.2</td>\n",
       "      <td>3.2</td>\n",
       "      <td>4.0</td>\n",
       "      <td>NaN</td>\n",
       "      <td>c(\"Toss 2 cups berries with sugar.\", \"Let stan...</td>\n",
       "    </tr>\n",
       "    <tr>\n",
       "      <th>1</th>\n",
       "      <td>39</td>\n",
       "      <td>Biryani</td>\n",
       "      <td>1567</td>\n",
       "      <td>elly9812</td>\n",
       "      <td>PT25M</td>\n",
       "      <td>PT4H</td>\n",
       "      <td>PT4H25M</td>\n",
       "      <td>1999-08-29T13:12:00Z</td>\n",
       "      <td>Make and share this Biryani recipe from Food.com.</td>\n",
       "      <td>c(\"https://img.sndimg.com/food/image/upload/w_...</td>\n",
       "      <td>...</td>\n",
       "      <td>16.6</td>\n",
       "      <td>372.8</td>\n",
       "      <td>368.4</td>\n",
       "      <td>84.4</td>\n",
       "      <td>9.0</td>\n",
       "      <td>20.4</td>\n",
       "      <td>63.4</td>\n",
       "      <td>6.0</td>\n",
       "      <td>NaN</td>\n",
       "      <td>c(\"Soak saffron in warm milk for 5 minutes and...</td>\n",
       "    </tr>\n",
       "    <tr>\n",
       "      <th>2</th>\n",
       "      <td>40</td>\n",
       "      <td>Best Lemonade</td>\n",
       "      <td>1566</td>\n",
       "      <td>Stephen Little</td>\n",
       "      <td>PT5M</td>\n",
       "      <td>PT30M</td>\n",
       "      <td>PT35M</td>\n",
       "      <td>1999-09-05T19:52:00Z</td>\n",
       "      <td>This is from one of my  first Good House Keepi...</td>\n",
       "      <td>c(\"https://img.sndimg.com/food/image/upload/w_...</td>\n",
       "      <td>...</td>\n",
       "      <td>0.0</td>\n",
       "      <td>0.0</td>\n",
       "      <td>1.8</td>\n",
       "      <td>81.5</td>\n",
       "      <td>0.4</td>\n",
       "      <td>77.2</td>\n",
       "      <td>0.3</td>\n",
       "      <td>4.0</td>\n",
       "      <td>NaN</td>\n",
       "      <td>c(\"Into a 1 quart Jar with tight fitting lid, ...</td>\n",
       "    </tr>\n",
       "    <tr>\n",
       "      <th>3</th>\n",
       "      <td>41</td>\n",
       "      <td>Carina's Tofu-Vegetable Kebabs</td>\n",
       "      <td>1586</td>\n",
       "      <td>Cyclopz</td>\n",
       "      <td>PT20M</td>\n",
       "      <td>PT24H</td>\n",
       "      <td>PT24H20M</td>\n",
       "      <td>1999-09-03T14:54:00Z</td>\n",
       "      <td>This dish is best prepared a day in advance to...</td>\n",
       "      <td>c(\"https://img.sndimg.com/food/image/upload/w_...</td>\n",
       "      <td>...</td>\n",
       "      <td>3.8</td>\n",
       "      <td>0.0</td>\n",
       "      <td>1558.6</td>\n",
       "      <td>64.2</td>\n",
       "      <td>17.3</td>\n",
       "      <td>32.1</td>\n",
       "      <td>29.3</td>\n",
       "      <td>2.0</td>\n",
       "      <td>4 kebabs</td>\n",
       "      <td>c(\"Drain the tofu, carefully squeezing out exc...</td>\n",
       "    </tr>\n",
       "    <tr>\n",
       "      <th>4</th>\n",
       "      <td>42</td>\n",
       "      <td>Cabbage Soup</td>\n",
       "      <td>1538</td>\n",
       "      <td>Duckie067</td>\n",
       "      <td>PT30M</td>\n",
       "      <td>PT20M</td>\n",
       "      <td>PT50M</td>\n",
       "      <td>1999-09-19T06:19:00Z</td>\n",
       "      <td>Make and share this Cabbage Soup recipe from F...</td>\n",
       "      <td>\"https://img.sndimg.com/food/image/upload/w_55...</td>\n",
       "      <td>...</td>\n",
       "      <td>0.1</td>\n",
       "      <td>0.0</td>\n",
       "      <td>959.3</td>\n",
       "      <td>25.1</td>\n",
       "      <td>4.8</td>\n",
       "      <td>17.7</td>\n",
       "      <td>4.3</td>\n",
       "      <td>4.0</td>\n",
       "      <td>NaN</td>\n",
       "      <td>c(\"Mix everything together and bring to a boil...</td>\n",
       "    </tr>\n",
       "  </tbody>\n",
       "</table>\n",
       "<p>5 rows × 28 columns</p>\n",
       "</div>"
      ],
      "text/plain": [
       "   RecipeId                               Name  AuthorId      AuthorName  \\\n",
       "0        38  Low-Fat Berry Blue Frozen Dessert      1533          Dancer   \n",
       "1        39                            Biryani      1567        elly9812   \n",
       "2        40                      Best Lemonade      1566  Stephen Little   \n",
       "3        41     Carina's Tofu-Vegetable Kebabs      1586         Cyclopz   \n",
       "4        42                       Cabbage Soup      1538       Duckie067   \n",
       "\n",
       "  CookTime PrepTime TotalTime         DatePublished  \\\n",
       "0    PT24H    PT45M  PT24H45M  1999-08-09T21:46:00Z   \n",
       "1    PT25M     PT4H   PT4H25M  1999-08-29T13:12:00Z   \n",
       "2     PT5M    PT30M     PT35M  1999-09-05T19:52:00Z   \n",
       "3    PT20M    PT24H  PT24H20M  1999-09-03T14:54:00Z   \n",
       "4    PT30M    PT20M     PT50M  1999-09-19T06:19:00Z   \n",
       "\n",
       "                                         Description  \\\n",
       "0  Make and share this Low-Fat Berry Blue Frozen ...   \n",
       "1  Make and share this Biryani recipe from Food.com.   \n",
       "2  This is from one of my  first Good House Keepi...   \n",
       "3  This dish is best prepared a day in advance to...   \n",
       "4  Make and share this Cabbage Soup recipe from F...   \n",
       "\n",
       "                                              Images  ... SaturatedFatContent  \\\n",
       "0  c(\"https://img.sndimg.com/food/image/upload/w_...  ...                 1.3   \n",
       "1  c(\"https://img.sndimg.com/food/image/upload/w_...  ...                16.6   \n",
       "2  c(\"https://img.sndimg.com/food/image/upload/w_...  ...                 0.0   \n",
       "3  c(\"https://img.sndimg.com/food/image/upload/w_...  ...                 3.8   \n",
       "4  \"https://img.sndimg.com/food/image/upload/w_55...  ...                 0.1   \n",
       "\n",
       "  CholesterolContent SodiumContent CarbohydrateContent  FiberContent  \\\n",
       "0                8.0          29.8                37.1           3.6   \n",
       "1              372.8         368.4                84.4           9.0   \n",
       "2                0.0           1.8                81.5           0.4   \n",
       "3                0.0        1558.6                64.2          17.3   \n",
       "4                0.0         959.3                25.1           4.8   \n",
       "\n",
       "   SugarContent  ProteinContent  RecipeServings  RecipeYield  \\\n",
       "0          30.2             3.2             4.0          NaN   \n",
       "1          20.4            63.4             6.0          NaN   \n",
       "2          77.2             0.3             4.0          NaN   \n",
       "3          32.1            29.3             2.0     4 kebabs   \n",
       "4          17.7             4.3             4.0          NaN   \n",
       "\n",
       "                                  RecipeInstructions  \n",
       "0  c(\"Toss 2 cups berries with sugar.\", \"Let stan...  \n",
       "1  c(\"Soak saffron in warm milk for 5 minutes and...  \n",
       "2  c(\"Into a 1 quart Jar with tight fitting lid, ...  \n",
       "3  c(\"Drain the tofu, carefully squeezing out exc...  \n",
       "4  c(\"Mix everything together and bring to a boil...  \n",
       "\n",
       "[5 rows x 28 columns]"
      ]
     },
     "execution_count": 4,
     "metadata": {},
     "output_type": "execute_result"
    }
   ],
   "source": [
    "dataset = df.copy()\n",
    "dataset.head()"
   ]
  },
  {
   "cell_type": "code",
   "execution_count": 5,
   "metadata": {
    "colab": {
     "base_uri": "https://localhost:8080/",
     "height": 36
    },
    "id": "WOy1spBuR5CJ",
    "outputId": "1c770ba5-3fc3-41f7-f64d-21ecea56422d"
   },
   "outputs": [
    {
     "data": {
      "text/plain": [
       "'c(\"blueberries\", \"granulated sugar\", \"vanilla yogurt\", \"lemon juice\")'"
      ]
     },
     "execution_count": 5,
     "metadata": {},
     "output_type": "execute_result"
    }
   ],
   "source": [
    "dataset['RecipeIngredientParts'][0]"
   ]
  },
  {
   "cell_type": "code",
   "execution_count": 6,
   "metadata": {
    "colab": {
     "base_uri": "https://localhost:8080/",
     "height": 36
    },
    "id": "gASbSDi5SCxL",
    "outputId": "9baf36db-cd5e-43bb-90de-ac04c8419cba"
   },
   "outputs": [
    {
     "data": {
      "text/plain": [
       "'c(\"4\", \"1/4\", \"1\", \"1\")'"
      ]
     },
     "execution_count": 6,
     "metadata": {},
     "output_type": "execute_result"
    }
   ],
   "source": [
    "dataset['RecipeIngredientQuantities'][0]"
   ]
  },
  {
   "cell_type": "code",
   "execution_count": 7,
   "metadata": {
    "colab": {
     "base_uri": "https://localhost:8080/",
     "height": 88
    },
    "id": "A_u4W7H6SL76",
    "outputId": "4a0d5692-efce-418f-d6d9-d8051d89fc9d"
   },
   "outputs": [
    {
     "data": {
      "text/plain": [
       "'c(\"Toss 2 cups berries with sugar.\", \"Let stand for 45 minutes, stirring occasionally.\", \"Transfer berry-sugar mixture to food processor.\", \"Add yogurt and process until smooth.\", \"Strain through fine sieve. Pour into baking pan (or transfer to ice cream maker and process according to manufacturers\\' directions). Freeze uncovered until edges are solid but centre is soft.  Transfer to processor and blend until smooth again.\", \"Return to pan and freeze until edges are solid.\", \"Transfer to processor and blend until smooth again.\", \\n\"Fold in remaining 2 cups of blueberries.\", \"Pour into plastic mold and freeze overnight. Let soften slightly to serve.\")'"
      ]
     },
     "execution_count": 7,
     "metadata": {},
     "output_type": "execute_result"
    }
   ],
   "source": [
    "dataset['RecipeInstructions'][0]"
   ]
  },
  {
   "cell_type": "code",
   "execution_count": 8,
   "metadata": {
    "colab": {
     "base_uri": "https://localhost:8080/"
    },
    "id": "78q57xF6RoPi",
    "outputId": "5e76147b-0939-465e-b730-a513e57d6b0f"
   },
   "outputs": [
    {
     "name": "stdout",
     "output_type": "stream",
     "text": [
      "<class 'pandas.core.frame.DataFrame'>\n",
      "RangeIndex: 522517 entries, 0 to 522516\n",
      "Data columns (total 28 columns):\n",
      " #   Column                      Non-Null Count   Dtype  \n",
      "---  ------                      --------------   -----  \n",
      " 0   RecipeId                    522517 non-null  int64  \n",
      " 1   Name                        522517 non-null  object \n",
      " 2   AuthorId                    522517 non-null  int64  \n",
      " 3   AuthorName                  522517 non-null  object \n",
      " 4   CookTime                    439972 non-null  object \n",
      " 5   PrepTime                    522517 non-null  object \n",
      " 6   TotalTime                   522517 non-null  object \n",
      " 7   DatePublished               522517 non-null  object \n",
      " 8   Description                 522512 non-null  object \n",
      " 9   Images                      522516 non-null  object \n",
      " 10  RecipeCategory              521766 non-null  object \n",
      " 11  Keywords                    505280 non-null  object \n",
      " 12  RecipeIngredientQuantities  522514 non-null  object \n",
      " 13  RecipeIngredientParts       522517 non-null  object \n",
      " 14  AggregatedRating            269294 non-null  float64\n",
      " 15  ReviewCount                 275028 non-null  float64\n",
      " 16  Calories                    522517 non-null  float64\n",
      " 17  FatContent                  522517 non-null  float64\n",
      " 18  SaturatedFatContent         522517 non-null  float64\n",
      " 19  CholesterolContent          522517 non-null  float64\n",
      " 20  SodiumContent               522517 non-null  float64\n",
      " 21  CarbohydrateContent         522517 non-null  float64\n",
      " 22  FiberContent                522517 non-null  float64\n",
      " 23  SugarContent                522517 non-null  float64\n",
      " 24  ProteinContent              522517 non-null  float64\n",
      " 25  RecipeServings              339606 non-null  float64\n",
      " 26  RecipeYield                 174446 non-null  object \n",
      " 27  RecipeInstructions          522517 non-null  object \n",
      "dtypes: float64(12), int64(2), object(14)\n",
      "memory usage: 111.6+ MB\n"
     ]
    }
   ],
   "source": [
    "dataset.info()"
   ]
  },
  {
   "cell_type": "markdown",
   "metadata": {
    "id": "WSVqIWmsdTp6"
   },
   "source": [
    "jumlah kolom = 28\n",
    "\n",
    "jumlah baris atau entries = 522.517\n",
    "\n",
    "tipe object = 14 kolom\n",
    "\n",
    "tipe numerik = 14 kolom"
   ]
  },
  {
   "cell_type": "code",
   "execution_count": 9,
   "metadata": {
    "colab": {
     "base_uri": "https://localhost:8080/"
    },
    "id": "2AV1_CMrdPVt",
    "outputId": "e512c33b-ac5b-4a6f-8434-e086e4343fb0"
   },
   "outputs": [
    {
     "data": {
      "text/plain": [
       "(522517, 28)"
      ]
     },
     "execution_count": 9,
     "metadata": {},
     "output_type": "execute_result"
    }
   ],
   "source": [
    "dataset.shape"
   ]
  },
  {
   "cell_type": "code",
   "execution_count": 10,
   "metadata": {
    "colab": {
     "base_uri": "https://localhost:8080/",
     "height": 962
    },
    "id": "_l7zJTvJetWq",
    "outputId": "761aa380-9644-4189-b49a-5f6ad7012153"
   },
   "outputs": [
    {
     "data": {
      "text/plain": [
       "RecipeId                           0\n",
       "Name                               0\n",
       "AuthorId                           0\n",
       "AuthorName                         0\n",
       "CookTime                       82545\n",
       "PrepTime                           0\n",
       "TotalTime                          0\n",
       "DatePublished                      0\n",
       "Description                        5\n",
       "Images                             1\n",
       "RecipeCategory                   751\n",
       "Keywords                       17237\n",
       "RecipeIngredientQuantities         3\n",
       "RecipeIngredientParts              0\n",
       "AggregatedRating              253223\n",
       "ReviewCount                   247489\n",
       "Calories                           0\n",
       "FatContent                         0\n",
       "SaturatedFatContent                0\n",
       "CholesterolContent                 0\n",
       "SodiumContent                      0\n",
       "CarbohydrateContent                0\n",
       "FiberContent                       0\n",
       "SugarContent                       0\n",
       "ProteinContent                     0\n",
       "RecipeServings                182911\n",
       "RecipeYield                   348071\n",
       "RecipeInstructions                 0\n",
       "dtype: int64"
      ]
     },
     "execution_count": 10,
     "metadata": {},
     "output_type": "execute_result"
    }
   ],
   "source": [
    "# mengecek data null\n",
    "dataset.isnull().sum()"
   ]
  },
  {
   "cell_type": "markdown",
   "metadata": {
    "id": "wvuHNy8Ze1jw"
   },
   "source": [
    "kolom yang memiliki nilai null :\n",
    "- CookTime\n",
    "- RecipeCategory\n",
    "- Keywords\n",
    "- RecipeIngredientQuantities\n",
    "- AggregatedRating\n",
    "- ReviewCount\n",
    "- RecipeServings\n",
    "- RecipeYield"
   ]
  },
  {
   "cell_type": "code",
   "execution_count": 11,
   "metadata": {
    "colab": {
     "base_uri": "https://localhost:8080/"
    },
    "id": "wW3feMJFfORl",
    "outputId": "e53a1962-7ba7-46eb-ece5-c1810f8af11b"
   },
   "outputs": [
    {
     "data": {
      "text/plain": [
       "0"
      ]
     },
     "execution_count": 11,
     "metadata": {},
     "output_type": "execute_result"
    }
   ],
   "source": [
    "# mengecek data yang duplikat\n",
    "dataset.duplicated().sum()"
   ]
  },
  {
   "cell_type": "markdown",
   "metadata": {
    "id": "hVa_zrvcfV2X"
   },
   "source": [
    "tidak ada nilai yang duplikat"
   ]
  },
  {
   "cell_type": "code",
   "execution_count": 12,
   "metadata": {
    "colab": {
     "base_uri": "https://localhost:8080/",
     "height": 962
    },
    "id": "DN10xu55QvPB",
    "outputId": "3ef6ae14-714f-4418-aa33-067d101b94f0"
   },
   "outputs": [
    {
     "data": {
      "text/plain": [
       "RecipeId                           0\n",
       "Name                               0\n",
       "AuthorId                           0\n",
       "AuthorName                         0\n",
       "CookTime                       52268\n",
       "PrepTime                           0\n",
       "TotalTime                          0\n",
       "DatePublished                      0\n",
       "Description                        4\n",
       "Images                             1\n",
       "RecipeCategory                   484\n",
       "Keywords                       11636\n",
       "RecipeIngredientQuantities         1\n",
       "RecipeIngredientParts              0\n",
       "AggregatedRating              167236\n",
       "ReviewCount                   163740\n",
       "Calories                           0\n",
       "FatContent                         0\n",
       "SaturatedFatContent                0\n",
       "CholesterolContent                 0\n",
       "SodiumContent                      0\n",
       "CarbohydrateContent                0\n",
       "FiberContent                       0\n",
       "SugarContent                       0\n",
       "ProteinContent                     0\n",
       "RecipeServings                     0\n",
       "RecipeYield                   260852\n",
       "RecipeInstructions                 0\n",
       "dtype: int64"
      ]
     },
     "execution_count": 12,
     "metadata": {},
     "output_type": "execute_result"
    }
   ],
   "source": [
    "# hapus nan value pada kolom RecipeServings\n",
    "dataset = dataset.dropna(subset=['RecipeServings'])\n",
    "dataset.isnull().sum()"
   ]
  },
  {
   "cell_type": "code",
   "execution_count": 13,
   "metadata": {
    "colab": {
     "base_uri": "https://localhost:8080/",
     "height": 962
    },
    "id": "_C5YpaWoS_y5",
    "outputId": "2f0bef7d-a4ce-4980-c122-040a9879d1fb"
   },
   "outputs": [
    {
     "data": {
      "text/plain": [
       "RecipeId                           0\n",
       "Name                               0\n",
       "AuthorId                           0\n",
       "AuthorName                         0\n",
       "CookTime                       52267\n",
       "PrepTime                           0\n",
       "TotalTime                          0\n",
       "DatePublished                      0\n",
       "Description                        4\n",
       "Images                             1\n",
       "RecipeCategory                   484\n",
       "Keywords                       11636\n",
       "RecipeIngredientQuantities         0\n",
       "RecipeIngredientParts              0\n",
       "AggregatedRating              167236\n",
       "ReviewCount                   163740\n",
       "Calories                           0\n",
       "FatContent                         0\n",
       "SaturatedFatContent                0\n",
       "CholesterolContent                 0\n",
       "SodiumContent                      0\n",
       "CarbohydrateContent                0\n",
       "FiberContent                       0\n",
       "SugarContent                       0\n",
       "ProteinContent                     0\n",
       "RecipeServings                     0\n",
       "RecipeYield                   260851\n",
       "RecipeInstructions                 0\n",
       "dtype: int64"
      ]
     },
     "execution_count": 13,
     "metadata": {},
     "output_type": "execute_result"
    }
   ],
   "source": [
    "# menghapus baris yang miliki nan value pada kolom RecipeIngredientQuantities\n",
    "dataset = dataset.dropna(subset=['RecipeIngredientQuantities'])\n",
    "dataset.isnull().sum()"
   ]
  },
  {
   "cell_type": "code",
   "execution_count": 14,
   "metadata": {
    "colab": {
     "base_uri": "https://localhost:8080/"
    },
    "id": "B7D55ClhTilC",
    "outputId": "8d81b57f-78d3-49e6-accc-2b08c02f8c4e"
   },
   "outputs": [
    {
     "data": {
      "text/plain": [
       "(109181, 28)"
      ]
     },
     "execution_count": 14,
     "metadata": {},
     "output_type": "execute_result"
    }
   ],
   "source": [
    "# menhapus baris yang miliki nilai char 0 pada kolom Images\n",
    "dataset = dataset[dataset['Images']!='character(0)']\n",
    "dataset.shape\n"
   ]
  },
  {
   "cell_type": "code",
   "execution_count": 15,
   "metadata": {
    "colab": {
     "base_uri": "https://localhost:8080/",
     "height": 417
    },
    "id": "mfvRui-XR_AG",
    "outputId": "9901fd7a-df37-4d64-f715-63c5b19b8480"
   },
   "outputs": [
    {
     "data": {
      "text/html": [
       "<div>\n",
       "<style scoped>\n",
       "    .dataframe tbody tr th:only-of-type {\n",
       "        vertical-align: middle;\n",
       "    }\n",
       "\n",
       "    .dataframe tbody tr th {\n",
       "        vertical-align: top;\n",
       "    }\n",
       "\n",
       "    .dataframe thead th {\n",
       "        text-align: right;\n",
       "    }\n",
       "</style>\n",
       "<table border=\"1\" class=\"dataframe\">\n",
       "  <thead>\n",
       "    <tr style=\"text-align: right;\">\n",
       "      <th></th>\n",
       "      <th>Name</th>\n",
       "      <th>Images</th>\n",
       "      <th>RecipeIngredientParts</th>\n",
       "      <th>RecipeIngredientQuantities</th>\n",
       "      <th>Calories</th>\n",
       "      <th>FatContent</th>\n",
       "      <th>SaturatedFatContent</th>\n",
       "      <th>CholesterolContent</th>\n",
       "      <th>SodiumContent</th>\n",
       "      <th>CarbohydrateContent</th>\n",
       "      <th>FiberContent</th>\n",
       "      <th>SugarContent</th>\n",
       "      <th>ProteinContent</th>\n",
       "      <th>RecipeServings</th>\n",
       "      <th>RecipeInstructions</th>\n",
       "    </tr>\n",
       "  </thead>\n",
       "  <tbody>\n",
       "    <tr>\n",
       "      <th>0</th>\n",
       "      <td>Low-Fat Berry Blue Frozen Dessert</td>\n",
       "      <td>c(\"https://img.sndimg.com/food/image/upload/w_...</td>\n",
       "      <td>c(\"blueberries\", \"granulated sugar\", \"vanilla ...</td>\n",
       "      <td>c(\"4\", \"1/4\", \"1\", \"1\")</td>\n",
       "      <td>170.9</td>\n",
       "      <td>2.5</td>\n",
       "      <td>1.3</td>\n",
       "      <td>8.0</td>\n",
       "      <td>29.8</td>\n",
       "      <td>37.1</td>\n",
       "      <td>3.6</td>\n",
       "      <td>30.2</td>\n",
       "      <td>3.2</td>\n",
       "      <td>4.0</td>\n",
       "      <td>c(\"Toss 2 cups berries with sugar.\", \"Let stan...</td>\n",
       "    </tr>\n",
       "    <tr>\n",
       "      <th>1</th>\n",
       "      <td>Biryani</td>\n",
       "      <td>c(\"https://img.sndimg.com/food/image/upload/w_...</td>\n",
       "      <td>c(\"saffron\", \"milk\", \"hot green chili peppers\"...</td>\n",
       "      <td>c(\"1\", \"4\", \"2\", \"2\", \"8\", \"1/4\", \"8\", \"1/2\", ...</td>\n",
       "      <td>1110.7</td>\n",
       "      <td>58.8</td>\n",
       "      <td>16.6</td>\n",
       "      <td>372.8</td>\n",
       "      <td>368.4</td>\n",
       "      <td>84.4</td>\n",
       "      <td>9.0</td>\n",
       "      <td>20.4</td>\n",
       "      <td>63.4</td>\n",
       "      <td>6.0</td>\n",
       "      <td>c(\"Soak saffron in warm milk for 5 minutes and...</td>\n",
       "    </tr>\n",
       "    <tr>\n",
       "      <th>2</th>\n",
       "      <td>Best Lemonade</td>\n",
       "      <td>c(\"https://img.sndimg.com/food/image/upload/w_...</td>\n",
       "      <td>c(\"sugar\", \"lemons, rind of\", \"lemon, zest of\"...</td>\n",
       "      <td>c(\"1 1/2\", \"1\", NA, \"1 1/2\", NA, \"3/4\")</td>\n",
       "      <td>311.1</td>\n",
       "      <td>0.2</td>\n",
       "      <td>0.0</td>\n",
       "      <td>0.0</td>\n",
       "      <td>1.8</td>\n",
       "      <td>81.5</td>\n",
       "      <td>0.4</td>\n",
       "      <td>77.2</td>\n",
       "      <td>0.3</td>\n",
       "      <td>4.0</td>\n",
       "      <td>c(\"Into a 1 quart Jar with tight fitting lid, ...</td>\n",
       "    </tr>\n",
       "    <tr>\n",
       "      <th>3</th>\n",
       "      <td>Carina's Tofu-Vegetable Kebabs</td>\n",
       "      <td>c(\"https://img.sndimg.com/food/image/upload/w_...</td>\n",
       "      <td>c(\"extra firm tofu\", \"eggplant\", \"zucchini\", \"...</td>\n",
       "      <td>c(\"12\", \"1\", \"2\", \"1\", \"10\", \"1\", \"3\", \"2\", \"2...</td>\n",
       "      <td>536.1</td>\n",
       "      <td>24.0</td>\n",
       "      <td>3.8</td>\n",
       "      <td>0.0</td>\n",
       "      <td>1558.6</td>\n",
       "      <td>64.2</td>\n",
       "      <td>17.3</td>\n",
       "      <td>32.1</td>\n",
       "      <td>29.3</td>\n",
       "      <td>2.0</td>\n",
       "      <td>c(\"Drain the tofu, carefully squeezing out exc...</td>\n",
       "    </tr>\n",
       "    <tr>\n",
       "      <th>4</th>\n",
       "      <td>Cabbage Soup</td>\n",
       "      <td>\"https://img.sndimg.com/food/image/upload/w_55...</td>\n",
       "      <td>c(\"plain tomato juice\", \"cabbage\", \"onion\", \"c...</td>\n",
       "      <td>c(\"46\", \"4\", \"1\", \"2\", \"1\")</td>\n",
       "      <td>103.6</td>\n",
       "      <td>0.4</td>\n",
       "      <td>0.1</td>\n",
       "      <td>0.0</td>\n",
       "      <td>959.3</td>\n",
       "      <td>25.1</td>\n",
       "      <td>4.8</td>\n",
       "      <td>17.7</td>\n",
       "      <td>4.3</td>\n",
       "      <td>4.0</td>\n",
       "      <td>c(\"Mix everything together and bring to a boil...</td>\n",
       "    </tr>\n",
       "  </tbody>\n",
       "</table>\n",
       "</div>"
      ],
      "text/plain": [
       "                                Name  \\\n",
       "0  Low-Fat Berry Blue Frozen Dessert   \n",
       "1                            Biryani   \n",
       "2                      Best Lemonade   \n",
       "3     Carina's Tofu-Vegetable Kebabs   \n",
       "4                       Cabbage Soup   \n",
       "\n",
       "                                              Images  \\\n",
       "0  c(\"https://img.sndimg.com/food/image/upload/w_...   \n",
       "1  c(\"https://img.sndimg.com/food/image/upload/w_...   \n",
       "2  c(\"https://img.sndimg.com/food/image/upload/w_...   \n",
       "3  c(\"https://img.sndimg.com/food/image/upload/w_...   \n",
       "4  \"https://img.sndimg.com/food/image/upload/w_55...   \n",
       "\n",
       "                               RecipeIngredientParts  \\\n",
       "0  c(\"blueberries\", \"granulated sugar\", \"vanilla ...   \n",
       "1  c(\"saffron\", \"milk\", \"hot green chili peppers\"...   \n",
       "2  c(\"sugar\", \"lemons, rind of\", \"lemon, zest of\"...   \n",
       "3  c(\"extra firm tofu\", \"eggplant\", \"zucchini\", \"...   \n",
       "4  c(\"plain tomato juice\", \"cabbage\", \"onion\", \"c...   \n",
       "\n",
       "                          RecipeIngredientQuantities  Calories  FatContent  \\\n",
       "0                            c(\"4\", \"1/4\", \"1\", \"1\")     170.9         2.5   \n",
       "1  c(\"1\", \"4\", \"2\", \"2\", \"8\", \"1/4\", \"8\", \"1/2\", ...    1110.7        58.8   \n",
       "2            c(\"1 1/2\", \"1\", NA, \"1 1/2\", NA, \"3/4\")     311.1         0.2   \n",
       "3  c(\"12\", \"1\", \"2\", \"1\", \"10\", \"1\", \"3\", \"2\", \"2...     536.1        24.0   \n",
       "4                        c(\"46\", \"4\", \"1\", \"2\", \"1\")     103.6         0.4   \n",
       "\n",
       "   SaturatedFatContent  CholesterolContent  SodiumContent  \\\n",
       "0                  1.3                 8.0           29.8   \n",
       "1                 16.6               372.8          368.4   \n",
       "2                  0.0                 0.0            1.8   \n",
       "3                  3.8                 0.0         1558.6   \n",
       "4                  0.1                 0.0          959.3   \n",
       "\n",
       "   CarbohydrateContent  FiberContent  SugarContent  ProteinContent  \\\n",
       "0                 37.1           3.6          30.2             3.2   \n",
       "1                 84.4           9.0          20.4            63.4   \n",
       "2                 81.5           0.4          77.2             0.3   \n",
       "3                 64.2          17.3          32.1            29.3   \n",
       "4                 25.1           4.8          17.7             4.3   \n",
       "\n",
       "   RecipeServings                                 RecipeInstructions  \n",
       "0             4.0  c(\"Toss 2 cups berries with sugar.\", \"Let stan...  \n",
       "1             6.0  c(\"Soak saffron in warm milk for 5 minutes and...  \n",
       "2             4.0  c(\"Into a 1 quart Jar with tight fitting lid, ...  \n",
       "3             2.0  c(\"Drain the tofu, carefully squeezing out exc...  \n",
       "4             4.0  c(\"Mix everything together and bring to a boil...  "
      ]
     },
     "execution_count": 15,
     "metadata": {},
     "output_type": "execute_result"
    }
   ],
   "source": [
    "# memilih kolom yang akan digunakan\n",
    "kolom = ['Name', 'Images', 'RecipeIngredientParts','RecipeIngredientQuantities',\n",
    "         'Calories', 'FatContent', 'SaturatedFatContent',\n",
    "         'CholesterolContent', 'SodiumContent', 'CarbohydrateContent',\n",
    "         'FiberContent','SugarContent','ProteinContent',\n",
    "         'RecipeServings', 'RecipeInstructions']\n",
    "dataset = dataset[kolom]\n",
    "dataset.head()"
   ]
  },
  {
   "cell_type": "code",
   "execution_count": 16,
   "metadata": {
    "colab": {
     "base_uri": "https://localhost:8080/",
     "height": 300
    },
    "id": "UQHa2YVagWGq",
    "outputId": "981f0546-105e-44da-b8b5-7b51c27bcd67"
   },
   "outputs": [
    {
     "data": {
      "text/html": [
       "<div>\n",
       "<style scoped>\n",
       "    .dataframe tbody tr th:only-of-type {\n",
       "        vertical-align: middle;\n",
       "    }\n",
       "\n",
       "    .dataframe tbody tr th {\n",
       "        vertical-align: top;\n",
       "    }\n",
       "\n",
       "    .dataframe thead th {\n",
       "        text-align: right;\n",
       "    }\n",
       "</style>\n",
       "<table border=\"1\" class=\"dataframe\">\n",
       "  <thead>\n",
       "    <tr style=\"text-align: right;\">\n",
       "      <th></th>\n",
       "      <th>Calories</th>\n",
       "      <th>FatContent</th>\n",
       "      <th>SaturatedFatContent</th>\n",
       "      <th>CholesterolContent</th>\n",
       "      <th>SodiumContent</th>\n",
       "      <th>CarbohydrateContent</th>\n",
       "      <th>FiberContent</th>\n",
       "      <th>SugarContent</th>\n",
       "      <th>ProteinContent</th>\n",
       "      <th>RecipeServings</th>\n",
       "    </tr>\n",
       "  </thead>\n",
       "  <tbody>\n",
       "    <tr>\n",
       "      <th>count</th>\n",
       "      <td>109181.000000</td>\n",
       "      <td>109181.000000</td>\n",
       "      <td>109181.000000</td>\n",
       "      <td>109181.000000</td>\n",
       "      <td>109181.000000</td>\n",
       "      <td>109181.000000</td>\n",
       "      <td>109181.000000</td>\n",
       "      <td>109181.000000</td>\n",
       "      <td>109181.000000</td>\n",
       "      <td>109181.000000</td>\n",
       "    </tr>\n",
       "    <tr>\n",
       "      <th>mean</th>\n",
       "      <td>349.843988</td>\n",
       "      <td>17.593231</td>\n",
       "      <td>6.712341</td>\n",
       "      <td>69.513906</td>\n",
       "      <td>549.077557</td>\n",
       "      <td>32.513137</td>\n",
       "      <td>3.034753</td>\n",
       "      <td>11.953819</td>\n",
       "      <td>15.309129</td>\n",
       "      <td>8.395133</td>\n",
       "    </tr>\n",
       "    <tr>\n",
       "      <th>std</th>\n",
       "      <td>427.096960</td>\n",
       "      <td>30.937191</td>\n",
       "      <td>11.427063</td>\n",
       "      <td>113.762995</td>\n",
       "      <td>1613.426283</td>\n",
       "      <td>45.048863</td>\n",
       "      <td>4.688963</td>\n",
       "      <td>26.429105</td>\n",
       "      <td>23.671812</td>\n",
       "      <td>140.676199</td>\n",
       "    </tr>\n",
       "    <tr>\n",
       "      <th>min</th>\n",
       "      <td>0.000000</td>\n",
       "      <td>0.000000</td>\n",
       "      <td>0.000000</td>\n",
       "      <td>0.000000</td>\n",
       "      <td>0.000000</td>\n",
       "      <td>0.000000</td>\n",
       "      <td>0.000000</td>\n",
       "      <td>0.000000</td>\n",
       "      <td>0.000000</td>\n",
       "      <td>1.000000</td>\n",
       "    </tr>\n",
       "    <tr>\n",
       "      <th>25%</th>\n",
       "      <td>158.400000</td>\n",
       "      <td>5.000000</td>\n",
       "      <td>1.200000</td>\n",
       "      <td>2.900000</td>\n",
       "      <td>113.500000</td>\n",
       "      <td>11.100000</td>\n",
       "      <td>0.800000</td>\n",
       "      <td>2.200000</td>\n",
       "      <td>3.200000</td>\n",
       "      <td>4.000000</td>\n",
       "    </tr>\n",
       "    <tr>\n",
       "      <th>50%</th>\n",
       "      <td>277.300000</td>\n",
       "      <td>11.900000</td>\n",
       "      <td>4.000000</td>\n",
       "      <td>38.500000</td>\n",
       "      <td>312.300000</td>\n",
       "      <td>24.700000</td>\n",
       "      <td>1.900000</td>\n",
       "      <td>5.400000</td>\n",
       "      <td>8.200000</td>\n",
       "      <td>6.000000</td>\n",
       "    </tr>\n",
       "    <tr>\n",
       "      <th>75%</th>\n",
       "      <td>441.800000</td>\n",
       "      <td>22.700000</td>\n",
       "      <td>8.900000</td>\n",
       "      <td>96.100000</td>\n",
       "      <td>672.300000</td>\n",
       "      <td>42.900000</td>\n",
       "      <td>3.900000</td>\n",
       "      <td>13.800000</td>\n",
       "      <td>23.300000</td>\n",
       "      <td>8.000000</td>\n",
       "    </tr>\n",
       "    <tr>\n",
       "      <th>max</th>\n",
       "      <td>41770.200000</td>\n",
       "      <td>4701.100000</td>\n",
       "      <td>992.100000</td>\n",
       "      <td>11823.800000</td>\n",
       "      <td>175987.700000</td>\n",
       "      <td>3564.400000</td>\n",
       "      <td>560.200000</td>\n",
       "      <td>2438.800000</td>\n",
       "      <td>3270.300000</td>\n",
       "      <td>32767.000000</td>\n",
       "    </tr>\n",
       "  </tbody>\n",
       "</table>\n",
       "</div>"
      ],
      "text/plain": [
       "            Calories     FatContent  SaturatedFatContent  CholesterolContent  \\\n",
       "count  109181.000000  109181.000000        109181.000000       109181.000000   \n",
       "mean      349.843988      17.593231             6.712341           69.513906   \n",
       "std       427.096960      30.937191            11.427063          113.762995   \n",
       "min         0.000000       0.000000             0.000000            0.000000   \n",
       "25%       158.400000       5.000000             1.200000            2.900000   \n",
       "50%       277.300000      11.900000             4.000000           38.500000   \n",
       "75%       441.800000      22.700000             8.900000           96.100000   \n",
       "max     41770.200000    4701.100000           992.100000        11823.800000   \n",
       "\n",
       "       SodiumContent  CarbohydrateContent   FiberContent   SugarContent  \\\n",
       "count  109181.000000        109181.000000  109181.000000  109181.000000   \n",
       "mean      549.077557            32.513137       3.034753      11.953819   \n",
       "std      1613.426283            45.048863       4.688963      26.429105   \n",
       "min         0.000000             0.000000       0.000000       0.000000   \n",
       "25%       113.500000            11.100000       0.800000       2.200000   \n",
       "50%       312.300000            24.700000       1.900000       5.400000   \n",
       "75%       672.300000            42.900000       3.900000      13.800000   \n",
       "max    175987.700000          3564.400000     560.200000    2438.800000   \n",
       "\n",
       "       ProteinContent  RecipeServings  \n",
       "count   109181.000000   109181.000000  \n",
       "mean        15.309129        8.395133  \n",
       "std         23.671812      140.676199  \n",
       "min          0.000000        1.000000  \n",
       "25%          3.200000        4.000000  \n",
       "50%          8.200000        6.000000  \n",
       "75%         23.300000        8.000000  \n",
       "max       3270.300000    32767.000000  "
      ]
     },
     "execution_count": 16,
     "metadata": {},
     "output_type": "execute_result"
    }
   ],
   "source": [
    "dataset.describe()"
   ]
  },
  {
   "cell_type": "markdown",
   "metadata": {
    "id": "tx39yCWRhkeo"
   },
   "source": [
    "nilai maksimalnya sangat besar, harus dipilih nilai maksimalnya. harus difilter dulu"
   ]
  },
  {
   "cell_type": "code",
   "execution_count": null,
   "metadata": {
    "id": "-9gsG_R7iwjk"
   },
   "outputs": [],
   "source": [
    "# filter data bedasarkan kebutuhan harian nutrisnya\n",
    "\n",
    "# maksimal kebutuhan harian manusya\n",
    "max_Calories=2000\n",
    "max_daily_fat=100\n",
    "max_daily_Saturatedfat=13\n",
    "max_daily_Cholesterol=300\n",
    "max_daily_Sodium=2300\n",
    "max_daily_Carbohydrate=325\n",
    "max_daily_Fiber=40\n",
    "max_daily_Sugar=40\n",
    "max_daily_Protein=200\n",
    "max_list=[max_Calories,max_daily_fat,max_daily_Saturatedfat,max_daily_Cholesterol,max_daily_Sodium,max_daily_Carbohydrate,max_daily_Fiber,max_daily_Sugar,max_daily_Protein]\n",
    "\n",
    "\n",
    "# kolom yang difilter\n",
    "kolom_nutrisi = ['Calories', 'FatContent', 'SaturatedFatContent',\n",
    "         'CholesterolContent', 'SodiumContent', 'CarbohydrateContent',\n",
    "         'FiberContent','SugarContent','ProteinContent',]\n",
    "extracted_data=dataset.copy()\n",
    "\n",
    "#ambil resep yang dibawah kebutuhan harian\n",
    "for column,maximum in zip(extracted_data[kolom_nutrisi],max_list):\n",
    "    extracted_data=extracted_data[extracted_data[column]<maximum]"
   ]
  },
  {
   "cell_type": "code",
   "execution_count": 18,
   "metadata": {
    "colab": {
     "base_uri": "https://localhost:8080/",
     "height": 554
    },
    "id": "09paxpCGgnGB",
    "outputId": "7f06c058-16a1-4148-e300-7a5000ee9dff"
   },
   "outputs": [
    {
     "data": {
      "text/plain": [
       "Name                          0\n",
       "Images                        0\n",
       "RecipeIngredientParts         0\n",
       "RecipeIngredientQuantities    0\n",
       "Calories                      0\n",
       "FatContent                    0\n",
       "SaturatedFatContent           0\n",
       "CholesterolContent            0\n",
       "SodiumContent                 0\n",
       "CarbohydrateContent           0\n",
       "FiberContent                  0\n",
       "SugarContent                  0\n",
       "ProteinContent                0\n",
       "RecipeServings                0\n",
       "RecipeInstructions            0\n",
       "dtype: int64"
      ]
     },
     "execution_count": 18,
     "metadata": {},
     "output_type": "execute_result"
    }
   ],
   "source": [
    "extracted_data.isnull().sum()"
   ]
  },
  {
   "cell_type": "markdown",
   "metadata": {},
   "source": [
    "tidak ada data yang null"
   ]
  },
  {
   "cell_type": "code",
   "execution_count": 19,
   "metadata": {
    "colab": {
     "base_uri": "https://localhost:8080/",
     "height": 554
    },
    "id": "3VdBEbMykVE-",
    "outputId": "a5c479fa-827f-47d8-9510-edf5ec423119"
   },
   "outputs": [
    {
     "data": {
      "text/plain": [
       "Name                          0.0\n",
       "Images                        0.0\n",
       "RecipeIngredientParts         0.0\n",
       "RecipeIngredientQuantities    0.0\n",
       "Calories                      0.0\n",
       "FatContent                    0.0\n",
       "SaturatedFatContent           0.0\n",
       "CholesterolContent            0.0\n",
       "SodiumContent                 0.0\n",
       "CarbohydrateContent           0.0\n",
       "FiberContent                  0.0\n",
       "SugarContent                  0.0\n",
       "ProteinContent                0.0\n",
       "RecipeServings                0.0\n",
       "RecipeInstructions            0.0\n",
       "dtype: float64"
      ]
     },
     "execution_count": 19,
     "metadata": {},
     "output_type": "execute_result"
    }
   ],
   "source": [
    "((extracted_data.isnull().sum())/len(extracted_data)) * 100"
   ]
  },
  {
   "cell_type": "code",
   "execution_count": 20,
   "metadata": {
    "colab": {
     "base_uri": "https://localhost:8080/"
    },
    "id": "L1P66Tooky1a",
    "outputId": "74c78a92-3f42-4833-98d0-d900b83db0a1"
   },
   "outputs": [
    {
     "data": {
      "text/plain": [
       "(87126, 15)"
      ]
     },
     "execution_count": 20,
     "metadata": {},
     "output_type": "execute_result"
    }
   ],
   "source": [
    "extracted_data.shape"
   ]
  },
  {
   "cell_type": "markdown",
   "metadata": {
    "id": "zXTjSkc4lKHo"
   },
   "source": [
    "data yang akan digunakan pada model lebih dari 87 ribu data"
   ]
  },
  {
   "cell_type": "code",
   "execution_count": 21,
   "metadata": {
    "colab": {
     "base_uri": "https://localhost:8080/"
    },
    "id": "wa1ez2vnk7dp",
    "outputId": "dce2c3cc-9ce3-4dbf-a3a0-6742e58320e0"
   },
   "outputs": [
    {
     "data": {
      "text/plain": [
       "(87126, 15)"
      ]
     },
     "execution_count": 21,
     "metadata": {},
     "output_type": "execute_result"
    }
   ],
   "source": [
    "# drop data yang kosong\n",
    "extracted_data = extracted_data.dropna(axis=0)\n",
    "extracted_data.shape"
   ]
  },
  {
   "cell_type": "code",
   "execution_count": 22,
   "metadata": {
    "colab": {
     "base_uri": "https://localhost:8080/",
     "height": 300
    },
    "id": "5sJxBTnVjey5",
    "outputId": "d34261fa-17ab-4793-f72e-f58ad400ebec"
   },
   "outputs": [
    {
     "data": {
      "text/html": [
       "<div>\n",
       "<style scoped>\n",
       "    .dataframe tbody tr th:only-of-type {\n",
       "        vertical-align: middle;\n",
       "    }\n",
       "\n",
       "    .dataframe tbody tr th {\n",
       "        vertical-align: top;\n",
       "    }\n",
       "\n",
       "    .dataframe thead th {\n",
       "        text-align: right;\n",
       "    }\n",
       "</style>\n",
       "<table border=\"1\" class=\"dataframe\">\n",
       "  <thead>\n",
       "    <tr style=\"text-align: right;\">\n",
       "      <th></th>\n",
       "      <th>Calories</th>\n",
       "      <th>FatContent</th>\n",
       "      <th>SaturatedFatContent</th>\n",
       "      <th>CholesterolContent</th>\n",
       "      <th>SodiumContent</th>\n",
       "      <th>CarbohydrateContent</th>\n",
       "      <th>FiberContent</th>\n",
       "      <th>SugarContent</th>\n",
       "      <th>ProteinContent</th>\n",
       "      <th>RecipeServings</th>\n",
       "    </tr>\n",
       "  </thead>\n",
       "  <tbody>\n",
       "    <tr>\n",
       "      <th>count</th>\n",
       "      <td>87126.000000</td>\n",
       "      <td>87126.000000</td>\n",
       "      <td>87126.000000</td>\n",
       "      <td>87126.000000</td>\n",
       "      <td>87126.000000</td>\n",
       "      <td>87126.000000</td>\n",
       "      <td>87126.000000</td>\n",
       "      <td>87126.000000</td>\n",
       "      <td>87126.000000</td>\n",
       "      <td>87126.000000</td>\n",
       "    </tr>\n",
       "    <tr>\n",
       "      <th>mean</th>\n",
       "      <td>257.667919</td>\n",
       "      <td>11.382135</td>\n",
       "      <td>3.863553</td>\n",
       "      <td>45.391977</td>\n",
       "      <td>393.136308</td>\n",
       "      <td>26.378628</td>\n",
       "      <td>2.788150</td>\n",
       "      <td>8.367727</td>\n",
       "      <td>12.195408</td>\n",
       "      <td>9.092877</td>\n",
       "    </tr>\n",
       "    <tr>\n",
       "      <th>std</th>\n",
       "      <td>165.521581</td>\n",
       "      <td>9.675442</td>\n",
       "      <td>3.444742</td>\n",
       "      <td>54.781240</td>\n",
       "      <td>405.737389</td>\n",
       "      <td>21.805111</td>\n",
       "      <td>3.232317</td>\n",
       "      <td>8.898567</td>\n",
       "      <td>13.162958</td>\n",
       "      <td>157.458206</td>\n",
       "    </tr>\n",
       "    <tr>\n",
       "      <th>min</th>\n",
       "      <td>0.000000</td>\n",
       "      <td>0.000000</td>\n",
       "      <td>0.000000</td>\n",
       "      <td>0.000000</td>\n",
       "      <td>0.000000</td>\n",
       "      <td>0.000000</td>\n",
       "      <td>0.000000</td>\n",
       "      <td>0.000000</td>\n",
       "      <td>0.000000</td>\n",
       "      <td>1.000000</td>\n",
       "    </tr>\n",
       "    <tr>\n",
       "      <th>25%</th>\n",
       "      <td>135.600000</td>\n",
       "      <td>4.000000</td>\n",
       "      <td>1.000000</td>\n",
       "      <td>0.000000</td>\n",
       "      <td>91.725000</td>\n",
       "      <td>10.000000</td>\n",
       "      <td>0.700000</td>\n",
       "      <td>2.000000</td>\n",
       "      <td>2.700000</td>\n",
       "      <td>4.000000</td>\n",
       "    </tr>\n",
       "    <tr>\n",
       "      <th>50%</th>\n",
       "      <td>230.400000</td>\n",
       "      <td>9.400000</td>\n",
       "      <td>2.900000</td>\n",
       "      <td>25.600000</td>\n",
       "      <td>261.700000</td>\n",
       "      <td>21.900000</td>\n",
       "      <td>1.800000</td>\n",
       "      <td>5.000000</td>\n",
       "      <td>6.600000</td>\n",
       "      <td>6.000000</td>\n",
       "    </tr>\n",
       "    <tr>\n",
       "      <th>75%</th>\n",
       "      <td>349.900000</td>\n",
       "      <td>16.500000</td>\n",
       "      <td>6.100000</td>\n",
       "      <td>71.875000</td>\n",
       "      <td>572.900000</td>\n",
       "      <td>37.300000</td>\n",
       "      <td>3.700000</td>\n",
       "      <td>11.800000</td>\n",
       "      <td>19.000000</td>\n",
       "      <td>8.000000</td>\n",
       "    </tr>\n",
       "    <tr>\n",
       "      <th>max</th>\n",
       "      <td>1806.800000</td>\n",
       "      <td>91.200000</td>\n",
       "      <td>12.900000</td>\n",
       "      <td>299.600000</td>\n",
       "      <td>2299.800000</td>\n",
       "      <td>320.100000</td>\n",
       "      <td>38.800000</td>\n",
       "      <td>39.900000</td>\n",
       "      <td>139.300000</td>\n",
       "      <td>32767.000000</td>\n",
       "    </tr>\n",
       "  </tbody>\n",
       "</table>\n",
       "</div>"
      ],
      "text/plain": [
       "           Calories    FatContent  SaturatedFatContent  CholesterolContent  \\\n",
       "count  87126.000000  87126.000000         87126.000000        87126.000000   \n",
       "mean     257.667919     11.382135             3.863553           45.391977   \n",
       "std      165.521581      9.675442             3.444742           54.781240   \n",
       "min        0.000000      0.000000             0.000000            0.000000   \n",
       "25%      135.600000      4.000000             1.000000            0.000000   \n",
       "50%      230.400000      9.400000             2.900000           25.600000   \n",
       "75%      349.900000     16.500000             6.100000           71.875000   \n",
       "max     1806.800000     91.200000            12.900000          299.600000   \n",
       "\n",
       "       SodiumContent  CarbohydrateContent  FiberContent  SugarContent  \\\n",
       "count   87126.000000         87126.000000  87126.000000  87126.000000   \n",
       "mean      393.136308            26.378628      2.788150      8.367727   \n",
       "std       405.737389            21.805111      3.232317      8.898567   \n",
       "min         0.000000             0.000000      0.000000      0.000000   \n",
       "25%        91.725000            10.000000      0.700000      2.000000   \n",
       "50%       261.700000            21.900000      1.800000      5.000000   \n",
       "75%       572.900000            37.300000      3.700000     11.800000   \n",
       "max      2299.800000           320.100000     38.800000     39.900000   \n",
       "\n",
       "       ProteinContent  RecipeServings  \n",
       "count    87126.000000    87126.000000  \n",
       "mean        12.195408        9.092877  \n",
       "std         13.162958      157.458206  \n",
       "min          0.000000        1.000000  \n",
       "25%          2.700000        4.000000  \n",
       "50%          6.600000        6.000000  \n",
       "75%         19.000000        8.000000  \n",
       "max        139.300000    32767.000000  "
      ]
     },
     "execution_count": 22,
     "metadata": {},
     "output_type": "execute_result"
    }
   ],
   "source": [
    "extracted_data.describe()"
   ]
  },
  {
   "cell_type": "markdown",
   "metadata": {
    "id": "G6Ad3irOj1HV"
   },
   "source": [
    "ada yang total servingnya sampe 32 ribu, apakah resep untuk hajatan kah????"
   ]
  },
  {
   "cell_type": "code",
   "execution_count": 35,
   "metadata": {
    "colab": {
     "base_uri": "https://localhost:8080/",
     "height": 206
    },
    "id": "lZckJOvrjxhW",
    "outputId": "4e3d1be8-2943-457c-c89e-bd468fadce9b"
   },
   "outputs": [
    {
     "data": {
      "text/html": [
       "<div>\n",
       "<style scoped>\n",
       "    .dataframe tbody tr th:only-of-type {\n",
       "        vertical-align: middle;\n",
       "    }\n",
       "\n",
       "    .dataframe tbody tr th {\n",
       "        vertical-align: top;\n",
       "    }\n",
       "\n",
       "    .dataframe thead th {\n",
       "        text-align: right;\n",
       "    }\n",
       "</style>\n",
       "<table border=\"1\" class=\"dataframe\">\n",
       "  <thead>\n",
       "    <tr style=\"text-align: right;\">\n",
       "      <th></th>\n",
       "      <th>Calories</th>\n",
       "      <th>FatContent</th>\n",
       "      <th>SaturatedFatContent</th>\n",
       "      <th>CholesterolContent</th>\n",
       "      <th>SodiumContent</th>\n",
       "      <th>CarbohydrateContent</th>\n",
       "      <th>FiberContent</th>\n",
       "      <th>SugarContent</th>\n",
       "      <th>ProteinContent</th>\n",
       "    </tr>\n",
       "  </thead>\n",
       "  <tbody>\n",
       "    <tr>\n",
       "      <th>0</th>\n",
       "      <td>170.9</td>\n",
       "      <td>2.5</td>\n",
       "      <td>1.3</td>\n",
       "      <td>8.0</td>\n",
       "      <td>29.8</td>\n",
       "      <td>37.1</td>\n",
       "      <td>3.6</td>\n",
       "      <td>30.2</td>\n",
       "      <td>3.2</td>\n",
       "    </tr>\n",
       "    <tr>\n",
       "      <th>3</th>\n",
       "      <td>536.1</td>\n",
       "      <td>24.0</td>\n",
       "      <td>3.8</td>\n",
       "      <td>0.0</td>\n",
       "      <td>1558.6</td>\n",
       "      <td>64.2</td>\n",
       "      <td>17.3</td>\n",
       "      <td>32.1</td>\n",
       "      <td>29.3</td>\n",
       "    </tr>\n",
       "    <tr>\n",
       "      <th>4</th>\n",
       "      <td>103.6</td>\n",
       "      <td>0.4</td>\n",
       "      <td>0.1</td>\n",
       "      <td>0.0</td>\n",
       "      <td>959.3</td>\n",
       "      <td>25.1</td>\n",
       "      <td>4.8</td>\n",
       "      <td>17.7</td>\n",
       "      <td>4.3</td>\n",
       "    </tr>\n",
       "    <tr>\n",
       "      <th>7</th>\n",
       "      <td>228.0</td>\n",
       "      <td>7.1</td>\n",
       "      <td>1.7</td>\n",
       "      <td>24.5</td>\n",
       "      <td>281.8</td>\n",
       "      <td>37.5</td>\n",
       "      <td>0.5</td>\n",
       "      <td>24.7</td>\n",
       "      <td>4.2</td>\n",
       "    </tr>\n",
       "    <tr>\n",
       "      <th>14</th>\n",
       "      <td>62.2</td>\n",
       "      <td>0.1</td>\n",
       "      <td>0.0</td>\n",
       "      <td>1.3</td>\n",
       "      <td>36.6</td>\n",
       "      <td>12.8</td>\n",
       "      <td>0.0</td>\n",
       "      <td>11.8</td>\n",
       "      <td>2.7</td>\n",
       "    </tr>\n",
       "  </tbody>\n",
       "</table>\n",
       "</div>"
      ],
      "text/plain": [
       "    Calories  FatContent  SaturatedFatContent  CholesterolContent  \\\n",
       "0      170.9         2.5                  1.3                 8.0   \n",
       "3      536.1        24.0                  3.8                 0.0   \n",
       "4      103.6         0.4                  0.1                 0.0   \n",
       "7      228.0         7.1                  1.7                24.5   \n",
       "14      62.2         0.1                  0.0                 1.3   \n",
       "\n",
       "    SodiumContent  CarbohydrateContent  FiberContent  SugarContent  \\\n",
       "0            29.8                 37.1           3.6          30.2   \n",
       "3          1558.6                 64.2          17.3          32.1   \n",
       "4           959.3                 25.1           4.8          17.7   \n",
       "7           281.8                 37.5           0.5          24.7   \n",
       "14           36.6                 12.8           0.0          11.8   \n",
       "\n",
       "    ProteinContent  \n",
       "0              3.2  \n",
       "3             29.3  \n",
       "4              4.3  \n",
       "7              4.2  \n",
       "14             2.7  "
      ]
     },
     "execution_count": 35,
     "metadata": {},
     "output_type": "execute_result"
    }
   ],
   "source": [
    "dataset_nutrisi = extracted_data[kolom_nutrisi]\n",
    "dataset_nutrisi.head()"
   ]
  },
  {
   "cell_type": "code",
   "execution_count": 44,
   "metadata": {},
   "outputs": [
    {
     "data": {
      "text/html": [
       "<div>\n",
       "<style scoped>\n",
       "    .dataframe tbody tr th:only-of-type {\n",
       "        vertical-align: middle;\n",
       "    }\n",
       "\n",
       "    .dataframe tbody tr th {\n",
       "        vertical-align: top;\n",
       "    }\n",
       "\n",
       "    .dataframe thead th {\n",
       "        text-align: right;\n",
       "    }\n",
       "</style>\n",
       "<table border=\"1\" class=\"dataframe\">\n",
       "  <thead>\n",
       "    <tr style=\"text-align: right;\">\n",
       "      <th></th>\n",
       "      <th>Name</th>\n",
       "      <th>Images</th>\n",
       "      <th>RecipeIngredientParts</th>\n",
       "      <th>RecipeIngredientQuantities</th>\n",
       "      <th>Calories</th>\n",
       "      <th>FatContent</th>\n",
       "      <th>SaturatedFatContent</th>\n",
       "      <th>CholesterolContent</th>\n",
       "      <th>SodiumContent</th>\n",
       "      <th>CarbohydrateContent</th>\n",
       "      <th>FiberContent</th>\n",
       "      <th>SugarContent</th>\n",
       "      <th>ProteinContent</th>\n",
       "      <th>RecipeServings</th>\n",
       "      <th>RecipeInstructions</th>\n",
       "    </tr>\n",
       "  </thead>\n",
       "  <tbody>\n",
       "    <tr>\n",
       "      <th>0</th>\n",
       "      <td>Low-Fat Berry Blue Frozen Dessert</td>\n",
       "      <td>c(\"https://img.sndimg.com/food/image/upload/w_...</td>\n",
       "      <td>c(\"blueberries\", \"granulated sugar\", \"vanilla ...</td>\n",
       "      <td>c(\"4\", \"1/4\", \"1\", \"1\")</td>\n",
       "      <td>170.9</td>\n",
       "      <td>2.5</td>\n",
       "      <td>1.3</td>\n",
       "      <td>8.0</td>\n",
       "      <td>29.8</td>\n",
       "      <td>37.1</td>\n",
       "      <td>3.6</td>\n",
       "      <td>30.2</td>\n",
       "      <td>3.2</td>\n",
       "      <td>4.0</td>\n",
       "      <td>c(\"Toss 2 cups berries with sugar.\", \"Let stan...</td>\n",
       "    </tr>\n",
       "    <tr>\n",
       "      <th>3</th>\n",
       "      <td>Carina's Tofu-Vegetable Kebabs</td>\n",
       "      <td>c(\"https://img.sndimg.com/food/image/upload/w_...</td>\n",
       "      <td>c(\"extra firm tofu\", \"eggplant\", \"zucchini\", \"...</td>\n",
       "      <td>c(\"12\", \"1\", \"2\", \"1\", \"10\", \"1\", \"3\", \"2\", \"2...</td>\n",
       "      <td>536.1</td>\n",
       "      <td>24.0</td>\n",
       "      <td>3.8</td>\n",
       "      <td>0.0</td>\n",
       "      <td>1558.6</td>\n",
       "      <td>64.2</td>\n",
       "      <td>17.3</td>\n",
       "      <td>32.1</td>\n",
       "      <td>29.3</td>\n",
       "      <td>2.0</td>\n",
       "      <td>c(\"Drain the tofu, carefully squeezing out exc...</td>\n",
       "    </tr>\n",
       "    <tr>\n",
       "      <th>4</th>\n",
       "      <td>Cabbage Soup</td>\n",
       "      <td>\"https://img.sndimg.com/food/image/upload/w_55...</td>\n",
       "      <td>c(\"plain tomato juice\", \"cabbage\", \"onion\", \"c...</td>\n",
       "      <td>c(\"46\", \"4\", \"1\", \"2\", \"1\")</td>\n",
       "      <td>103.6</td>\n",
       "      <td>0.4</td>\n",
       "      <td>0.1</td>\n",
       "      <td>0.0</td>\n",
       "      <td>959.3</td>\n",
       "      <td>25.1</td>\n",
       "      <td>4.8</td>\n",
       "      <td>17.7</td>\n",
       "      <td>4.3</td>\n",
       "      <td>4.0</td>\n",
       "      <td>c(\"Mix everything together and bring to a boil...</td>\n",
       "    </tr>\n",
       "    <tr>\n",
       "      <th>7</th>\n",
       "      <td>Buttermilk Pie With Gingersnap Crumb Crust</td>\n",
       "      <td>\"https://img.sndimg.com/food/image/upload/w_55...</td>\n",
       "      <td>c(\"sugar\", \"margarine\", \"egg\", \"flour\", \"salt\"...</td>\n",
       "      <td>c(\"3/4\", \"1\", \"1\", \"2\", \"3\", \"1/4\", \"1\", \"1/2\"...</td>\n",
       "      <td>228.0</td>\n",
       "      <td>7.1</td>\n",
       "      <td>1.7</td>\n",
       "      <td>24.5</td>\n",
       "      <td>281.8</td>\n",
       "      <td>37.5</td>\n",
       "      <td>0.5</td>\n",
       "      <td>24.7</td>\n",
       "      <td>4.2</td>\n",
       "      <td>8.0</td>\n",
       "      <td>c(\"Preheat oven to 350°F.\", \"Make pie crust, u...</td>\n",
       "    </tr>\n",
       "    <tr>\n",
       "      <th>14</th>\n",
       "      <td>Cafe Cappuccino</td>\n",
       "      <td>c(\"https://img.sndimg.com/food/image/upload/w_...</td>\n",
       "      <td>c(\"instant coffee\", \"sugar\", \"nonfat dry milk ...</td>\n",
       "      <td>c(\"1/2\", \"3/4\", \"1\", \"1/2\")</td>\n",
       "      <td>62.2</td>\n",
       "      <td>0.1</td>\n",
       "      <td>0.0</td>\n",
       "      <td>1.3</td>\n",
       "      <td>36.6</td>\n",
       "      <td>12.8</td>\n",
       "      <td>0.0</td>\n",
       "      <td>11.8</td>\n",
       "      <td>2.7</td>\n",
       "      <td>18.0</td>\n",
       "      <td>c(\"Stir ingredients together.\", \"Process in a ...</td>\n",
       "    </tr>\n",
       "  </tbody>\n",
       "</table>\n",
       "</div>"
      ],
      "text/plain": [
       "                                          Name  \\\n",
       "0            Low-Fat Berry Blue Frozen Dessert   \n",
       "3               Carina's Tofu-Vegetable Kebabs   \n",
       "4                                 Cabbage Soup   \n",
       "7   Buttermilk Pie With Gingersnap Crumb Crust   \n",
       "14                             Cafe Cappuccino   \n",
       "\n",
       "                                               Images  \\\n",
       "0   c(\"https://img.sndimg.com/food/image/upload/w_...   \n",
       "3   c(\"https://img.sndimg.com/food/image/upload/w_...   \n",
       "4   \"https://img.sndimg.com/food/image/upload/w_55...   \n",
       "7   \"https://img.sndimg.com/food/image/upload/w_55...   \n",
       "14  c(\"https://img.sndimg.com/food/image/upload/w_...   \n",
       "\n",
       "                                RecipeIngredientParts  \\\n",
       "0   c(\"blueberries\", \"granulated sugar\", \"vanilla ...   \n",
       "3   c(\"extra firm tofu\", \"eggplant\", \"zucchini\", \"...   \n",
       "4   c(\"plain tomato juice\", \"cabbage\", \"onion\", \"c...   \n",
       "7   c(\"sugar\", \"margarine\", \"egg\", \"flour\", \"salt\"...   \n",
       "14  c(\"instant coffee\", \"sugar\", \"nonfat dry milk ...   \n",
       "\n",
       "                           RecipeIngredientQuantities  Calories  FatContent  \\\n",
       "0                             c(\"4\", \"1/4\", \"1\", \"1\")     170.9         2.5   \n",
       "3   c(\"12\", \"1\", \"2\", \"1\", \"10\", \"1\", \"3\", \"2\", \"2...     536.1        24.0   \n",
       "4                         c(\"46\", \"4\", \"1\", \"2\", \"1\")     103.6         0.4   \n",
       "7   c(\"3/4\", \"1\", \"1\", \"2\", \"3\", \"1/4\", \"1\", \"1/2\"...     228.0         7.1   \n",
       "14                        c(\"1/2\", \"3/4\", \"1\", \"1/2\")      62.2         0.1   \n",
       "\n",
       "    SaturatedFatContent  CholesterolContent  SodiumContent  \\\n",
       "0                   1.3                 8.0           29.8   \n",
       "3                   3.8                 0.0         1558.6   \n",
       "4                   0.1                 0.0          959.3   \n",
       "7                   1.7                24.5          281.8   \n",
       "14                  0.0                 1.3           36.6   \n",
       "\n",
       "    CarbohydrateContent  FiberContent  SugarContent  ProteinContent  \\\n",
       "0                  37.1           3.6          30.2             3.2   \n",
       "3                  64.2          17.3          32.1            29.3   \n",
       "4                  25.1           4.8          17.7             4.3   \n",
       "7                  37.5           0.5          24.7             4.2   \n",
       "14                 12.8           0.0          11.8             2.7   \n",
       "\n",
       "    RecipeServings                                 RecipeInstructions  \n",
       "0              4.0  c(\"Toss 2 cups berries with sugar.\", \"Let stan...  \n",
       "3              2.0  c(\"Drain the tofu, carefully squeezing out exc...  \n",
       "4              4.0  c(\"Mix everything together and bring to a boil...  \n",
       "7              8.0  c(\"Preheat oven to 350°F.\", \"Make pie crust, u...  \n",
       "14            18.0  c(\"Stir ingredients together.\", \"Process in a ...  "
      ]
     },
     "execution_count": 44,
     "metadata": {},
     "output_type": "execute_result"
    }
   ],
   "source": [
    "extracted_data.head()"
   ]
  },
  {
   "cell_type": "code",
   "execution_count": 45,
   "metadata": {},
   "outputs": [],
   "source": [
    "extracted_data.to_csv('extracted_data.csv')"
   ]
  },
  {
   "cell_type": "code",
   "execution_count": 36,
   "metadata": {
    "id": "yxUt-Bur4E3t"
   },
   "outputs": [],
   "source": [
    "from sklearn.preprocessing import StandardScaler, MinMaxScaler\n",
    "from sklearn.model_selection import train_test_split\n",
    "import matplotlib.pyplot as plt\n",
    "\n",
    "from sklearn.metrics.pairwise import cosine_similarity\n",
    "from tensorflow.keras.models import Sequential, Model\n",
    "from tensorflow.keras.layers import Dense, Input\n",
    "from tensorflow.keras.optimizers import Adam"
   ]
  },
  {
   "cell_type": "code",
   "execution_count": 37,
   "metadata": {
    "id": "m7MOJxt54zGt"
   },
   "outputs": [],
   "source": [
    "# preprocessing data\n",
    "scaler = MinMaxScaler()\n",
    "resep_scaled = scaler.fit_transform(dataset_nutrisi)"
   ]
  },
  {
   "cell_type": "code",
   "execution_count": 39,
   "metadata": {},
   "outputs": [
    {
     "data": {
      "text/html": [
       "<div>\n",
       "<style scoped>\n",
       "    .dataframe tbody tr th:only-of-type {\n",
       "        vertical-align: middle;\n",
       "    }\n",
       "\n",
       "    .dataframe tbody tr th {\n",
       "        vertical-align: top;\n",
       "    }\n",
       "\n",
       "    .dataframe thead th {\n",
       "        text-align: right;\n",
       "    }\n",
       "</style>\n",
       "<table border=\"1\" class=\"dataframe\">\n",
       "  <thead>\n",
       "    <tr style=\"text-align: right;\">\n",
       "      <th></th>\n",
       "      <th>Calories</th>\n",
       "      <th>FatContent</th>\n",
       "      <th>SaturatedFatContent</th>\n",
       "      <th>CholesterolContent</th>\n",
       "      <th>SodiumContent</th>\n",
       "      <th>CarbohydrateContent</th>\n",
       "      <th>FiberContent</th>\n",
       "      <th>SugarContent</th>\n",
       "      <th>ProteinContent</th>\n",
       "    </tr>\n",
       "  </thead>\n",
       "  <tbody>\n",
       "    <tr>\n",
       "      <th>0</th>\n",
       "      <td>170.9</td>\n",
       "      <td>2.5</td>\n",
       "      <td>1.3</td>\n",
       "      <td>8.0</td>\n",
       "      <td>29.8</td>\n",
       "      <td>37.1</td>\n",
       "      <td>3.6</td>\n",
       "      <td>30.2</td>\n",
       "      <td>3.2</td>\n",
       "    </tr>\n",
       "    <tr>\n",
       "      <th>3</th>\n",
       "      <td>536.1</td>\n",
       "      <td>24.0</td>\n",
       "      <td>3.8</td>\n",
       "      <td>0.0</td>\n",
       "      <td>1558.6</td>\n",
       "      <td>64.2</td>\n",
       "      <td>17.3</td>\n",
       "      <td>32.1</td>\n",
       "      <td>29.3</td>\n",
       "    </tr>\n",
       "    <tr>\n",
       "      <th>4</th>\n",
       "      <td>103.6</td>\n",
       "      <td>0.4</td>\n",
       "      <td>0.1</td>\n",
       "      <td>0.0</td>\n",
       "      <td>959.3</td>\n",
       "      <td>25.1</td>\n",
       "      <td>4.8</td>\n",
       "      <td>17.7</td>\n",
       "      <td>4.3</td>\n",
       "    </tr>\n",
       "    <tr>\n",
       "      <th>7</th>\n",
       "      <td>228.0</td>\n",
       "      <td>7.1</td>\n",
       "      <td>1.7</td>\n",
       "      <td>24.5</td>\n",
       "      <td>281.8</td>\n",
       "      <td>37.5</td>\n",
       "      <td>0.5</td>\n",
       "      <td>24.7</td>\n",
       "      <td>4.2</td>\n",
       "    </tr>\n",
       "    <tr>\n",
       "      <th>14</th>\n",
       "      <td>62.2</td>\n",
       "      <td>0.1</td>\n",
       "      <td>0.0</td>\n",
       "      <td>1.3</td>\n",
       "      <td>36.6</td>\n",
       "      <td>12.8</td>\n",
       "      <td>0.0</td>\n",
       "      <td>11.8</td>\n",
       "      <td>2.7</td>\n",
       "    </tr>\n",
       "  </tbody>\n",
       "</table>\n",
       "</div>"
      ],
      "text/plain": [
       "    Calories  FatContent  SaturatedFatContent  CholesterolContent  \\\n",
       "0      170.9         2.5                  1.3                 8.0   \n",
       "3      536.1        24.0                  3.8                 0.0   \n",
       "4      103.6         0.4                  0.1                 0.0   \n",
       "7      228.0         7.1                  1.7                24.5   \n",
       "14      62.2         0.1                  0.0                 1.3   \n",
       "\n",
       "    SodiumContent  CarbohydrateContent  FiberContent  SugarContent  \\\n",
       "0            29.8                 37.1           3.6          30.2   \n",
       "3          1558.6                 64.2          17.3          32.1   \n",
       "4           959.3                 25.1           4.8          17.7   \n",
       "7           281.8                 37.5           0.5          24.7   \n",
       "14           36.6                 12.8           0.0          11.8   \n",
       "\n",
       "    ProteinContent  \n",
       "0              3.2  \n",
       "3             29.3  \n",
       "4              4.3  \n",
       "7              4.2  \n",
       "14             2.7  "
      ]
     },
     "execution_count": 39,
     "metadata": {},
     "output_type": "execute_result"
    }
   ],
   "source": [
    "dataset_nutrisi.head()"
   ]
  },
  {
   "cell_type": "code",
   "execution_count": 40,
   "metadata": {},
   "outputs": [],
   "source": [
    "#save dataset nutrisi\n",
    "dataset_nutrisi.to_csv('dataset_nutrisi.csv', index=False)"
   ]
  },
  {
   "cell_type": "code",
   "execution_count": 26,
   "metadata": {
    "id": "uVo4eznC7Ag_"
   },
   "outputs": [],
   "source": [
    "# split\n",
    "train_data, val_data = train_test_split(resep_scaled, test_size = 0.2, random_state = 123)"
   ]
  },
  {
   "cell_type": "code",
   "execution_count": 27,
   "metadata": {
    "colab": {
     "base_uri": "https://localhost:8080/"
    },
    "id": "GMNlTBTJ7fSP",
    "outputId": "5dbc9d46-c19a-4ad7-c162-e81cdbf63abb"
   },
   "outputs": [
    {
     "data": {
      "text/plain": [
       "array([[0.23134824, 0.04495614, 0.0620155 , ..., 0.1443299 , 0.32330827,\n",
       "        0.25484566],\n",
       "       [0.24584901, 0.25657895, 0.73643411, ..., 0.04639175, 0.05764411,\n",
       "        0.09906676],\n",
       "       [0.15104051, 0.15899123, 0.64341085, ..., 0.00773196, 0.01253133,\n",
       "        0.24910266],\n",
       "       ...,\n",
       "       [0.16144565, 0.14254386, 0.49612403, ..., 0.05927835, 0.06766917,\n",
       "        0.09045226],\n",
       "       [0.04449856, 0.03289474, 0.04651163, ..., 0.08762887, 0.15288221,\n",
       "        0.01363963],\n",
       "       [0.24623644, 0.28508772, 0.65116279, ..., 0.04896907, 0.0802005 ,\n",
       "        0.09978464]])"
      ]
     },
     "execution_count": 27,
     "metadata": {},
     "output_type": "execute_result"
    }
   ],
   "source": [
    "train_data"
   ]
  },
  {
   "cell_type": "code",
   "execution_count": 28,
   "metadata": {
    "colab": {
     "base_uri": "https://localhost:8080/"
    },
    "id": "mTblDFHb8VxI",
    "outputId": "16ca69fd-5697-4bcf-f0e9-d0ce02adcad3"
   },
   "outputs": [
    {
     "data": {
      "text/plain": [
       "9"
      ]
     },
     "execution_count": 28,
     "metadata": {},
     "output_type": "execute_result"
    }
   ],
   "source": [
    "input_dim = resep_scaled.shape[1]\n",
    "input_dim"
   ]
  },
  {
   "cell_type": "code",
   "execution_count": 47,
   "metadata": {},
   "outputs": [
    {
     "data": {
      "text/plain": [
       "array([[0.09458712, 0.02741228, 0.10077519, ..., 0.09278351, 0.75689223,\n",
       "        0.022972  ],\n",
       "       [0.29671242, 0.26315789, 0.29457364, ..., 0.44587629, 0.80451128,\n",
       "        0.2103374 ],\n",
       "       [0.05733894, 0.00438596, 0.00775194, ..., 0.12371134, 0.44360902,\n",
       "        0.03086863],\n",
       "       ...,\n",
       "       [0.39456498, 0.27850877, 0.66666667, ..., 0.15463918, 0.50626566,\n",
       "        0.16654702],\n",
       "       [0.03459154, 0.04824561, 0.21705426, ..., 0.00257732, 0.05764411,\n",
       "        0.00430725],\n",
       "       [0.04665707, 0.02302632, 0.09302326, ..., 0.01030928, 0.38596491,\n",
       "        0.00430725]])"
      ]
     },
     "execution_count": 47,
     "metadata": {},
     "output_type": "execute_result"
    }
   ],
   "source": [
    "resep_scaled"
   ]
  },
  {
   "cell_type": "code",
   "execution_count": 29,
   "metadata": {
    "colab": {
     "base_uri": "https://localhost:8080/"
    },
    "id": "qVRwCzQW8Zq-",
    "outputId": "f656034b-6198-49a6-d92a-8c9e9daabe73"
   },
   "outputs": [
    {
     "name": "stderr",
     "output_type": "stream",
     "text": [
      "C:\\Users\\Lenovo\\AppData\\Roaming\\Python\\Python312\\site-packages\\keras\\src\\layers\\core\\dense.py:87: UserWarning: Do not pass an `input_shape`/`input_dim` argument to a layer. When using Sequential models, prefer using an `Input(shape)` object as the first layer in the model instead.\n",
      "  super().__init__(activity_regularizer=activity_regularizer, **kwargs)\n"
     ]
    },
    {
     "name": "stdout",
     "output_type": "stream",
     "text": [
      "Epoch 1/20\n",
      "\u001b[1m2179/2179\u001b[0m \u001b[32m━━━━━━━━━━━━━━━━━━━━\u001b[0m\u001b[37m\u001b[0m \u001b[1m9s\u001b[0m 3ms/step - accuracy: 0.8371 - loss: 0.0058 - val_accuracy: 0.9842 - val_loss: 1.0847e-05\n",
      "Epoch 2/20\n",
      "\u001b[1m2179/2179\u001b[0m \u001b[32m━━━━━━━━━━━━━━━━━━━━\u001b[0m\u001b[37m\u001b[0m \u001b[1m6s\u001b[0m 3ms/step - accuracy: 0.9904 - loss: 6.6433e-06 - val_accuracy: 0.9903 - val_loss: 8.4768e-07\n",
      "Epoch 3/20\n",
      "\u001b[1m2179/2179\u001b[0m \u001b[32m━━━━━━━━━━━━━━━━━━━━\u001b[0m\u001b[37m\u001b[0m \u001b[1m6s\u001b[0m 3ms/step - accuracy: 0.9906 - loss: 1.3295e-06 - val_accuracy: 0.9840 - val_loss: 6.9104e-06\n",
      "Epoch 4/20\n",
      "\u001b[1m2179/2179\u001b[0m \u001b[32m━━━━━━━━━━━━━━━━━━━━\u001b[0m\u001b[37m\u001b[0m \u001b[1m6s\u001b[0m 3ms/step - accuracy: 0.9915 - loss: 8.7800e-07 - val_accuracy: 0.9884 - val_loss: 3.8881e-07\n",
      "Epoch 5/20\n",
      "\u001b[1m2179/2179\u001b[0m \u001b[32m━━━━━━━━━━━━━━━━━━━━\u001b[0m\u001b[37m\u001b[0m \u001b[1m6s\u001b[0m 3ms/step - accuracy: 0.9911 - loss: 8.8925e-07 - val_accuracy: 0.9911 - val_loss: 2.2267e-07\n",
      "Epoch 6/20\n",
      "\u001b[1m2179/2179\u001b[0m \u001b[32m━━━━━━━━━━━━━━━━━━━━\u001b[0m\u001b[37m\u001b[0m \u001b[1m6s\u001b[0m 3ms/step - accuracy: 0.9912 - loss: 1.1272e-06 - val_accuracy: 0.9925 - val_loss: 1.4161e-07\n",
      "Epoch 7/20\n",
      "\u001b[1m2179/2179\u001b[0m \u001b[32m━━━━━━━━━━━━━━━━━━━━\u001b[0m\u001b[37m\u001b[0m \u001b[1m6s\u001b[0m 3ms/step - accuracy: 0.9919 - loss: 5.1412e-07 - val_accuracy: 0.9897 - val_loss: 7.9679e-07\n",
      "Epoch 8/20\n",
      "\u001b[1m2179/2179\u001b[0m \u001b[32m━━━━━━━━━━━━━━━━━━━━\u001b[0m\u001b[37m\u001b[0m \u001b[1m6s\u001b[0m 3ms/step - accuracy: 0.9918 - loss: 7.0048e-07 - val_accuracy: 0.9921 - val_loss: 9.9675e-08\n",
      "Epoch 9/20\n",
      "\u001b[1m2179/2179\u001b[0m \u001b[32m━━━━━━━━━━━━━━━━━━━━\u001b[0m\u001b[37m\u001b[0m \u001b[1m6s\u001b[0m 3ms/step - accuracy: 0.9931 - loss: 5.0657e-07 - val_accuracy: 0.9929 - val_loss: 7.6943e-08\n",
      "Epoch 10/20\n",
      "\u001b[1m2179/2179\u001b[0m \u001b[32m━━━━━━━━━━━━━━━━━━━━\u001b[0m\u001b[37m\u001b[0m \u001b[1m6s\u001b[0m 3ms/step - accuracy: 0.9923 - loss: 5.3576e-07 - val_accuracy: 0.9931 - val_loss: 7.7044e-08\n",
      "Epoch 11/20\n",
      "\u001b[1m2179/2179\u001b[0m \u001b[32m━━━━━━━━━━━━━━━━━━━━\u001b[0m\u001b[37m\u001b[0m \u001b[1m6s\u001b[0m 3ms/step - accuracy: 0.9927 - loss: 8.1765e-07 - val_accuracy: 0.9742 - val_loss: 1.5333e-05\n",
      "Epoch 12/20\n",
      "\u001b[1m2179/2179\u001b[0m \u001b[32m━━━━━━━━━━━━━━━━━━━━\u001b[0m\u001b[37m\u001b[0m \u001b[1m6s\u001b[0m 3ms/step - accuracy: 0.9915 - loss: 1.3021e-06 - val_accuracy: 0.9925 - val_loss: 8.2912e-08\n",
      "Epoch 13/20\n",
      "\u001b[1m2179/2179\u001b[0m \u001b[32m━━━━━━━━━━━━━━━━━━━━\u001b[0m\u001b[37m\u001b[0m \u001b[1m6s\u001b[0m 3ms/step - accuracy: 0.9915 - loss: 8.4661e-07 - val_accuracy: 0.9924 - val_loss: 8.6281e-08\n",
      "Epoch 14/20\n",
      "\u001b[1m2179/2179\u001b[0m \u001b[32m━━━━━━━━━━━━━━━━━━━━\u001b[0m\u001b[37m\u001b[0m \u001b[1m6s\u001b[0m 3ms/step - accuracy: 0.9921 - loss: 4.4097e-07 - val_accuracy: 0.9849 - val_loss: 3.1807e-06\n",
      "Epoch 15/20\n",
      "\u001b[1m2179/2179\u001b[0m \u001b[32m━━━━━━━━━━━━━━━━━━━━\u001b[0m\u001b[37m\u001b[0m \u001b[1m6s\u001b[0m 3ms/step - accuracy: 0.9916 - loss: 9.3534e-07 - val_accuracy: 0.9827 - val_loss: 7.2875e-06\n",
      "Epoch 16/20\n",
      "\u001b[1m2179/2179\u001b[0m \u001b[32m━━━━━━━━━━━━━━━━━━━━\u001b[0m\u001b[37m\u001b[0m \u001b[1m6s\u001b[0m 3ms/step - accuracy: 0.9912 - loss: 1.1467e-06 - val_accuracy: 0.9974 - val_loss: 4.0742e-07\n",
      "Epoch 17/20\n",
      "\u001b[1m2179/2179\u001b[0m \u001b[32m━━━━━━━━━━━━━━━━━━━━\u001b[0m\u001b[37m\u001b[0m \u001b[1m6s\u001b[0m 3ms/step - accuracy: 0.9926 - loss: 6.9639e-07 - val_accuracy: 0.9912 - val_loss: 3.0971e-07\n",
      "Epoch 18/20\n",
      "\u001b[1m2179/2179\u001b[0m \u001b[32m━━━━━━━━━━━━━━━━━━━━\u001b[0m\u001b[37m\u001b[0m \u001b[1m6s\u001b[0m 3ms/step - accuracy: 0.9928 - loss: 3.5782e-07 - val_accuracy: 0.9928 - val_loss: 7.9125e-08\n",
      "Epoch 19/20\n",
      "\u001b[1m2179/2179\u001b[0m \u001b[32m━━━━━━━━━━━━━━━━━━━━\u001b[0m\u001b[37m\u001b[0m \u001b[1m6s\u001b[0m 3ms/step - accuracy: 0.9935 - loss: 3.2333e-07 - val_accuracy: 0.9925 - val_loss: 1.8637e-07\n",
      "Epoch 20/20\n",
      "\u001b[1m2179/2179\u001b[0m \u001b[32m━━━━━━━━━━━━━━━━━━━━\u001b[0m\u001b[37m\u001b[0m \u001b[1m6s\u001b[0m 3ms/step - accuracy: 0.9914 - loss: 5.6129e-07 - val_accuracy: 0.9982 - val_loss: 1.4333e-07\n"
     ]
    }
   ],
   "source": [
    "# model\n",
    "model = Sequential()\n",
    "model.add(Dense(32, activation='relu', input_dim=input_dim))\n",
    "model.add(Dense(16, activation='relu'))\n",
    "model.add(Dense(input_dim, activation='linear'))\n",
    "\n",
    "model.compile(loss='mean_squared_error',\n",
    "              optimizer=Adam(),\n",
    "              metrics = ['accuracy'])\n",
    "\n",
    "history = model.fit(train_data, train_data,\n",
    "                    epochs=20,\n",
    "                    batch_size=32,\n",
    "                    validation_data = (val_data, val_data))"
   ]
  },
  {
   "cell_type": "code",
   "execution_count": 30,
   "metadata": {
    "colab": {
     "base_uri": "https://localhost:8080/",
     "height": 521
    },
    "id": "Vv6m6PM08mL8",
    "outputId": "b42fa22f-be81-4176-bef6-c28906299546"
   },
   "outputs": [
    {
     "name": "stderr",
     "output_type": "stream",
     "text": [
      "C:\\Users\\Lenovo\\AppData\\Roaming\\Python\\Python312\\site-packages\\sklearn\\base.py:493: UserWarning: X does not have valid feature names, but MinMaxScaler was fitted with feature names\n",
      "  warnings.warn(\n"
     ]
    },
    {
     "data": {
      "text/html": [
       "<div>\n",
       "<style scoped>\n",
       "    .dataframe tbody tr th:only-of-type {\n",
       "        vertical-align: middle;\n",
       "    }\n",
       "\n",
       "    .dataframe tbody tr th {\n",
       "        vertical-align: top;\n",
       "    }\n",
       "\n",
       "    .dataframe thead th {\n",
       "        text-align: right;\n",
       "    }\n",
       "</style>\n",
       "<table border=\"1\" class=\"dataframe\">\n",
       "  <thead>\n",
       "    <tr style=\"text-align: right;\">\n",
       "      <th></th>\n",
       "      <th>Name</th>\n",
       "      <th>Images</th>\n",
       "      <th>RecipeIngredientParts</th>\n",
       "      <th>Calories</th>\n",
       "      <th>FatContent</th>\n",
       "      <th>SaturatedFatContent</th>\n",
       "      <th>CholesterolContent</th>\n",
       "      <th>SodiumContent</th>\n",
       "      <th>CarbohydrateContent</th>\n",
       "      <th>FiberContent</th>\n",
       "      <th>SugarContent</th>\n",
       "      <th>ProteinContent</th>\n",
       "      <th>RecipeServings</th>\n",
       "      <th>RecipeInstructions</th>\n",
       "    </tr>\n",
       "  </thead>\n",
       "  <tbody>\n",
       "    <tr>\n",
       "      <th>304042</th>\n",
       "      <td>Shake, Smoothie... Frozen Fruit Drink</td>\n",
       "      <td>\"https://img.sndimg.com/food/image/upload/w_55...</td>\n",
       "      <td>c(\"coconut milk\", \"milk\", \"sugar\")</td>\n",
       "      <td>108.2</td>\n",
       "      <td>10.7</td>\n",
       "      <td>9.2</td>\n",
       "      <td>4.3</td>\n",
       "      <td>20.8</td>\n",
       "      <td>2.7</td>\n",
       "      <td>0.0</td>\n",
       "      <td>0.0</td>\n",
       "      <td>1.9</td>\n",
       "      <td>1.0</td>\n",
       "      <td>c(\"Put coconut milk in blender, add fruit. Pul...</td>\n",
       "    </tr>\n",
       "    <tr>\n",
       "      <th>506682</th>\n",
       "      <td>Homemade Fabric Softening Recipe</td>\n",
       "      <td>\"https://img.sndimg.com/food/image/upload/w_55...</td>\n",
       "      <td>c(\"coconut oil\", \"white distilled vinegar\")</td>\n",
       "      <td>20.0</td>\n",
       "      <td>1.7</td>\n",
       "      <td>1.5</td>\n",
       "      <td>0.0</td>\n",
       "      <td>0.6</td>\n",
       "      <td>0.0</td>\n",
       "      <td>0.0</td>\n",
       "      <td>0.0</td>\n",
       "      <td>0.0</td>\n",
       "      <td>32.0</td>\n",
       "      <td>c(\"Melt the Emulsifying wax and coconut oil to...</td>\n",
       "    </tr>\n",
       "    <tr>\n",
       "      <th>497636</th>\n",
       "      <td>Green Tea Coconut Milk Ice Cream (Low-GI)</td>\n",
       "      <td>\"https://img.sndimg.com/food/image/upload/w_55...</td>\n",
       "      <td>c(\"coconut milk\", \"eggs\", \"vanilla extract\", \"...</td>\n",
       "      <td>126.7</td>\n",
       "      <td>13.6</td>\n",
       "      <td>12.1</td>\n",
       "      <td>0.0</td>\n",
       "      <td>8.3</td>\n",
       "      <td>1.8</td>\n",
       "      <td>0.0</td>\n",
       "      <td>0.0</td>\n",
       "      <td>1.3</td>\n",
       "      <td>6.0</td>\n",
       "      <td>c(\"In a blender, place coconut milk, eggs, sug...</td>\n",
       "    </tr>\n",
       "    <tr>\n",
       "      <th>509682</th>\n",
       "      <td>AIP Lemon Rosemary Cookies</td>\n",
       "      <td>\"https://img.sndimg.com/food/image/upload/w_55...</td>\n",
       "      <td>c(\"tapioca starch\", \"flour\", \"rosemary\", \"lemo...</td>\n",
       "      <td>38.5</td>\n",
       "      <td>2.3</td>\n",
       "      <td>2.0</td>\n",
       "      <td>0.0</td>\n",
       "      <td>0.3</td>\n",
       "      <td>4.0</td>\n",
       "      <td>0.2</td>\n",
       "      <td>0.1</td>\n",
       "      <td>0.6</td>\n",
       "      <td>20.0</td>\n",
       "      <td>c(\"Preheat the oven to 350&amp;deg;F.\", \"In a mixi...</td>\n",
       "    </tr>\n",
       "    <tr>\n",
       "      <th>450616</th>\n",
       "      <td>Chocolate Delight - Hcg - P2/P3/P4</td>\n",
       "      <td>\"https://img.sndimg.com/food/image/upload/w_55...</td>\n",
       "      <td>c(\"coconut oil\", \"cocoa powder\", \"stevia\")</td>\n",
       "      <td>126.6</td>\n",
       "      <td>14.2</td>\n",
       "      <td>12.1</td>\n",
       "      <td>0.0</td>\n",
       "      <td>0.8</td>\n",
       "      <td>2.3</td>\n",
       "      <td>1.3</td>\n",
       "      <td>0.1</td>\n",
       "      <td>0.8</td>\n",
       "      <td>16.0</td>\n",
       "      <td>c(\"Melt coconut oil (in microwave) for 15-45 s...</td>\n",
       "    </tr>\n",
       "  </tbody>\n",
       "</table>\n",
       "</div>"
      ],
      "text/plain": [
       "                                             Name  \\\n",
       "304042      Shake, Smoothie... Frozen Fruit Drink   \n",
       "506682           Homemade Fabric Softening Recipe   \n",
       "497636  Green Tea Coconut Milk Ice Cream (Low-GI)   \n",
       "509682                 AIP Lemon Rosemary Cookies   \n",
       "450616         Chocolate Delight - Hcg - P2/P3/P4   \n",
       "\n",
       "                                                   Images  \\\n",
       "304042  \"https://img.sndimg.com/food/image/upload/w_55...   \n",
       "506682  \"https://img.sndimg.com/food/image/upload/w_55...   \n",
       "497636  \"https://img.sndimg.com/food/image/upload/w_55...   \n",
       "509682  \"https://img.sndimg.com/food/image/upload/w_55...   \n",
       "450616  \"https://img.sndimg.com/food/image/upload/w_55...   \n",
       "\n",
       "                                    RecipeIngredientParts  Calories  \\\n",
       "304042                 c(\"coconut milk\", \"milk\", \"sugar\")     108.2   \n",
       "506682        c(\"coconut oil\", \"white distilled vinegar\")      20.0   \n",
       "497636  c(\"coconut milk\", \"eggs\", \"vanilla extract\", \"...     126.7   \n",
       "509682  c(\"tapioca starch\", \"flour\", \"rosemary\", \"lemo...      38.5   \n",
       "450616         c(\"coconut oil\", \"cocoa powder\", \"stevia\")     126.6   \n",
       "\n",
       "        FatContent  SaturatedFatContent  CholesterolContent  SodiumContent  \\\n",
       "304042        10.7                  9.2                 4.3           20.8   \n",
       "506682         1.7                  1.5                 0.0            0.6   \n",
       "497636        13.6                 12.1                 0.0            8.3   \n",
       "509682         2.3                  2.0                 0.0            0.3   \n",
       "450616        14.2                 12.1                 0.0            0.8   \n",
       "\n",
       "        CarbohydrateContent  FiberContent  SugarContent  ProteinContent  \\\n",
       "304042                  2.7           0.0           0.0             1.9   \n",
       "506682                  0.0           0.0           0.0             0.0   \n",
       "497636                  1.8           0.0           0.0             1.3   \n",
       "509682                  4.0           0.2           0.1             0.6   \n",
       "450616                  2.3           1.3           0.1             0.8   \n",
       "\n",
       "        RecipeServings                                 RecipeInstructions  \n",
       "304042             1.0  c(\"Put coconut milk in blender, add fruit. Pul...  \n",
       "506682            32.0  c(\"Melt the Emulsifying wax and coconut oil to...  \n",
       "497636             6.0  c(\"In a blender, place coconut milk, eggs, sug...  \n",
       "509682            20.0  c(\"Preheat the oven to 350&deg;F.\", \"In a mixi...  \n",
       "450616            16.0  c(\"Melt coconut oil (in microwave) for 15-45 s...  "
      ]
     },
     "execution_count": 30,
     "metadata": {},
     "output_type": "execute_result"
    }
   ],
   "source": [
    "input_nutrisi = np.array([[100, 3, 5, 0, 9, 0, 0, 0, 4]])\n",
    "\n",
    "input_nutisi_scaled = scaler.transform(input_nutrisi)\n",
    "\n",
    "similarity = cosine_similarity(input_nutisi_scaled, resep_scaled)\n",
    "\n",
    "top_resep = np.argsort(similarity, axis=1)[0][::-1][:5]\n",
    "\n",
    "kolom_pilihan = ['Name', 'Images', 'RecipeIngredientParts',\n",
    "                 'Calories', 'FatContent', 'SaturatedFatContent', 'CholesterolContent',\n",
    "                 'SodiumContent', 'CarbohydrateContent', 'FiberContent',\n",
    "                 'SugarContent', 'ProteinContent', 'RecipeServings', 'RecipeInstructions']\n",
    "recommendations = extracted_data.iloc[top_resep][kolom_pilihan]\n",
    "\n",
    "recommendations.head()"
   ]
  },
  {
   "cell_type": "code",
   "execution_count": 31,
   "metadata": {
    "colab": {
     "base_uri": "https://localhost:8080/"
    },
    "id": "-LMrGBtHXRG7",
    "outputId": "7b00063d-5fa0-4ad8-a366-c34681827d0f"
   },
   "outputs": [
    {
     "data": {
      "text/plain": [
       "(87126, 15)"
      ]
     },
     "execution_count": 31,
     "metadata": {},
     "output_type": "execute_result"
    }
   ],
   "source": [
    "extracted_data.shape"
   ]
  },
  {
   "cell_type": "code",
   "execution_count": 32,
   "metadata": {
    "colab": {
     "base_uri": "https://localhost:8080/",
     "height": 300
    },
    "id": "0WjugW6_ZbWs",
    "outputId": "cbe878d4-5377-4905-bfa2-0b2bfd7249a8"
   },
   "outputs": [
    {
     "data": {
      "text/html": [
       "<div>\n",
       "<style scoped>\n",
       "    .dataframe tbody tr th:only-of-type {\n",
       "        vertical-align: middle;\n",
       "    }\n",
       "\n",
       "    .dataframe tbody tr th {\n",
       "        vertical-align: top;\n",
       "    }\n",
       "\n",
       "    .dataframe thead th {\n",
       "        text-align: right;\n",
       "    }\n",
       "</style>\n",
       "<table border=\"1\" class=\"dataframe\">\n",
       "  <thead>\n",
       "    <tr style=\"text-align: right;\">\n",
       "      <th></th>\n",
       "      <th>Calories</th>\n",
       "      <th>FatContent</th>\n",
       "      <th>SaturatedFatContent</th>\n",
       "      <th>CholesterolContent</th>\n",
       "      <th>SodiumContent</th>\n",
       "      <th>CarbohydrateContent</th>\n",
       "      <th>FiberContent</th>\n",
       "      <th>SugarContent</th>\n",
       "      <th>ProteinContent</th>\n",
       "      <th>RecipeServings</th>\n",
       "    </tr>\n",
       "  </thead>\n",
       "  <tbody>\n",
       "    <tr>\n",
       "      <th>count</th>\n",
       "      <td>87126.000000</td>\n",
       "      <td>87126.000000</td>\n",
       "      <td>87126.000000</td>\n",
       "      <td>87126.000000</td>\n",
       "      <td>87126.000000</td>\n",
       "      <td>87126.000000</td>\n",
       "      <td>87126.000000</td>\n",
       "      <td>87126.000000</td>\n",
       "      <td>87126.000000</td>\n",
       "      <td>87126.000000</td>\n",
       "    </tr>\n",
       "    <tr>\n",
       "      <th>mean</th>\n",
       "      <td>257.667919</td>\n",
       "      <td>11.382135</td>\n",
       "      <td>3.863553</td>\n",
       "      <td>45.391977</td>\n",
       "      <td>393.136308</td>\n",
       "      <td>26.378628</td>\n",
       "      <td>2.788150</td>\n",
       "      <td>8.367727</td>\n",
       "      <td>12.195408</td>\n",
       "      <td>9.092877</td>\n",
       "    </tr>\n",
       "    <tr>\n",
       "      <th>std</th>\n",
       "      <td>165.521581</td>\n",
       "      <td>9.675442</td>\n",
       "      <td>3.444742</td>\n",
       "      <td>54.781240</td>\n",
       "      <td>405.737389</td>\n",
       "      <td>21.805111</td>\n",
       "      <td>3.232317</td>\n",
       "      <td>8.898567</td>\n",
       "      <td>13.162958</td>\n",
       "      <td>157.458206</td>\n",
       "    </tr>\n",
       "    <tr>\n",
       "      <th>min</th>\n",
       "      <td>0.000000</td>\n",
       "      <td>0.000000</td>\n",
       "      <td>0.000000</td>\n",
       "      <td>0.000000</td>\n",
       "      <td>0.000000</td>\n",
       "      <td>0.000000</td>\n",
       "      <td>0.000000</td>\n",
       "      <td>0.000000</td>\n",
       "      <td>0.000000</td>\n",
       "      <td>1.000000</td>\n",
       "    </tr>\n",
       "    <tr>\n",
       "      <th>25%</th>\n",
       "      <td>135.600000</td>\n",
       "      <td>4.000000</td>\n",
       "      <td>1.000000</td>\n",
       "      <td>0.000000</td>\n",
       "      <td>91.725000</td>\n",
       "      <td>10.000000</td>\n",
       "      <td>0.700000</td>\n",
       "      <td>2.000000</td>\n",
       "      <td>2.700000</td>\n",
       "      <td>4.000000</td>\n",
       "    </tr>\n",
       "    <tr>\n",
       "      <th>50%</th>\n",
       "      <td>230.400000</td>\n",
       "      <td>9.400000</td>\n",
       "      <td>2.900000</td>\n",
       "      <td>25.600000</td>\n",
       "      <td>261.700000</td>\n",
       "      <td>21.900000</td>\n",
       "      <td>1.800000</td>\n",
       "      <td>5.000000</td>\n",
       "      <td>6.600000</td>\n",
       "      <td>6.000000</td>\n",
       "    </tr>\n",
       "    <tr>\n",
       "      <th>75%</th>\n",
       "      <td>349.900000</td>\n",
       "      <td>16.500000</td>\n",
       "      <td>6.100000</td>\n",
       "      <td>71.875000</td>\n",
       "      <td>572.900000</td>\n",
       "      <td>37.300000</td>\n",
       "      <td>3.700000</td>\n",
       "      <td>11.800000</td>\n",
       "      <td>19.000000</td>\n",
       "      <td>8.000000</td>\n",
       "    </tr>\n",
       "    <tr>\n",
       "      <th>max</th>\n",
       "      <td>1806.800000</td>\n",
       "      <td>91.200000</td>\n",
       "      <td>12.900000</td>\n",
       "      <td>299.600000</td>\n",
       "      <td>2299.800000</td>\n",
       "      <td>320.100000</td>\n",
       "      <td>38.800000</td>\n",
       "      <td>39.900000</td>\n",
       "      <td>139.300000</td>\n",
       "      <td>32767.000000</td>\n",
       "    </tr>\n",
       "  </tbody>\n",
       "</table>\n",
       "</div>"
      ],
      "text/plain": [
       "           Calories    FatContent  SaturatedFatContent  CholesterolContent  \\\n",
       "count  87126.000000  87126.000000         87126.000000        87126.000000   \n",
       "mean     257.667919     11.382135             3.863553           45.391977   \n",
       "std      165.521581      9.675442             3.444742           54.781240   \n",
       "min        0.000000      0.000000             0.000000            0.000000   \n",
       "25%      135.600000      4.000000             1.000000            0.000000   \n",
       "50%      230.400000      9.400000             2.900000           25.600000   \n",
       "75%      349.900000     16.500000             6.100000           71.875000   \n",
       "max     1806.800000     91.200000            12.900000          299.600000   \n",
       "\n",
       "       SodiumContent  CarbohydrateContent  FiberContent  SugarContent  \\\n",
       "count   87126.000000         87126.000000  87126.000000  87126.000000   \n",
       "mean      393.136308            26.378628      2.788150      8.367727   \n",
       "std       405.737389            21.805111      3.232317      8.898567   \n",
       "min         0.000000             0.000000      0.000000      0.000000   \n",
       "25%        91.725000            10.000000      0.700000      2.000000   \n",
       "50%       261.700000            21.900000      1.800000      5.000000   \n",
       "75%       572.900000            37.300000      3.700000     11.800000   \n",
       "max      2299.800000           320.100000     38.800000     39.900000   \n",
       "\n",
       "       ProteinContent  RecipeServings  \n",
       "count    87126.000000    87126.000000  \n",
       "mean        12.195408        9.092877  \n",
       "std         13.162958      157.458206  \n",
       "min          0.000000        1.000000  \n",
       "25%          2.700000        4.000000  \n",
       "50%          6.600000        6.000000  \n",
       "75%         19.000000        8.000000  \n",
       "max        139.300000    32767.000000  "
      ]
     },
     "execution_count": 32,
     "metadata": {},
     "output_type": "execute_result"
    }
   ],
   "source": [
    "extracted_data.describe()"
   ]
  },
  {
   "cell_type": "code",
   "execution_count": 41,
   "metadata": {
    "id": "nDSzWks1ZciK"
   },
   "outputs": [
    {
     "name": "stderr",
     "output_type": "stream",
     "text": [
      "WARNING:absl:You are saving your model as an HDF5 file via `model.save()` or `keras.saving.save_model(model)`. This file format is considered legacy. We recommend using instead the native Keras format, e.g. `model.save('my_model.keras')` or `keras.saving.save_model(model, 'my_model.keras')`. \n"
     ]
    }
   ],
   "source": [
    "# save model\n",
    "model.save('model_rekomendasi.h5')\n"
   ]
  },
  {
   "cell_type": "code",
   "execution_count": null,
   "metadata": {},
   "outputs": [],
   "source": []
  }
 ],
 "metadata": {
  "colab": {
   "provenance": []
  },
  "kernelspec": {
   "display_name": "Python 3",
   "name": "python3"
  },
  "language_info": {
   "codemirror_mode": {
    "name": "ipython",
    "version": 3
   },
   "file_extension": ".py",
   "mimetype": "text/x-python",
   "name": "python",
   "nbconvert_exporter": "python",
   "pygments_lexer": "ipython3",
   "version": "3.12.5"
  }
 },
 "nbformat": 4,
 "nbformat_minor": 0
}
