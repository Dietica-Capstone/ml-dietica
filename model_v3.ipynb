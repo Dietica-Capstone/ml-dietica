{
 "cells": [
  {
   "cell_type": "code",
   "execution_count": 1,
   "metadata": {},
   "outputs": [],
   "source": [
    "import numpy as np\n",
    "import pandas as pd\n",
    "import matplotlib.pyplot as plt\n",
    "import seaborn as sns"
   ]
  },
  {
   "cell_type": "code",
   "execution_count": 2,
   "metadata": {},
   "outputs": [
    {
     "data": {
      "text/html": [
       "<div>\n",
       "<style scoped>\n",
       "    .dataframe tbody tr th:only-of-type {\n",
       "        vertical-align: middle;\n",
       "    }\n",
       "\n",
       "    .dataframe tbody tr th {\n",
       "        vertical-align: top;\n",
       "    }\n",
       "\n",
       "    .dataframe thead th {\n",
       "        text-align: right;\n",
       "    }\n",
       "</style>\n",
       "<table border=\"1\" class=\"dataframe\">\n",
       "  <thead>\n",
       "    <tr style=\"text-align: right;\">\n",
       "      <th></th>\n",
       "      <th>Age</th>\n",
       "      <th>Height</th>\n",
       "      <th>Weight</th>\n",
       "      <th>Bmi</th>\n",
       "      <th>BmiClass</th>\n",
       "    </tr>\n",
       "  </thead>\n",
       "  <tbody>\n",
       "    <tr>\n",
       "      <th>0</th>\n",
       "      <td>61</td>\n",
       "      <td>1.85</td>\n",
       "      <td>109.30</td>\n",
       "      <td>31.935720</td>\n",
       "      <td>Obese Class 1</td>\n",
       "    </tr>\n",
       "    <tr>\n",
       "      <th>1</th>\n",
       "      <td>60</td>\n",
       "      <td>1.71</td>\n",
       "      <td>79.02</td>\n",
       "      <td>27.023700</td>\n",
       "      <td>Overweight</td>\n",
       "    </tr>\n",
       "    <tr>\n",
       "      <th>2</th>\n",
       "      <td>60</td>\n",
       "      <td>1.55</td>\n",
       "      <td>74.70</td>\n",
       "      <td>31.092612</td>\n",
       "      <td>Obese Class 1</td>\n",
       "    </tr>\n",
       "    <tr>\n",
       "      <th>3</th>\n",
       "      <td>60</td>\n",
       "      <td>1.46</td>\n",
       "      <td>35.90</td>\n",
       "      <td>16.841809</td>\n",
       "      <td>Underweight</td>\n",
       "    </tr>\n",
       "    <tr>\n",
       "      <th>4</th>\n",
       "      <td>60</td>\n",
       "      <td>1.58</td>\n",
       "      <td>97.10</td>\n",
       "      <td>38.896010</td>\n",
       "      <td>Obese Class 2</td>\n",
       "    </tr>\n",
       "  </tbody>\n",
       "</table>\n",
       "</div>"
      ],
      "text/plain": [
       "   Age  Height  Weight        Bmi       BmiClass\n",
       "0   61    1.85  109.30  31.935720  Obese Class 1\n",
       "1   60    1.71   79.02  27.023700     Overweight\n",
       "2   60    1.55   74.70  31.092612  Obese Class 1\n",
       "3   60    1.46   35.90  16.841809    Underweight\n",
       "4   60    1.58   97.10  38.896010  Obese Class 2"
      ]
     },
     "execution_count": 2,
     "metadata": {},
     "output_type": "execute_result"
    }
   ],
   "source": [
    "bmi_2 = pd.read_csv('./dataset/bmi-1.csv')\n",
    "bmi_2.head()"
   ]
  },
  {
   "cell_type": "code",
   "execution_count": 3,
   "metadata": {},
   "outputs": [
    {
     "data": {
      "text/plain": [
       "Age         0\n",
       "Height      0\n",
       "Weight      0\n",
       "Bmi         0\n",
       "BmiClass    0\n",
       "dtype: int64"
      ]
     },
     "execution_count": 3,
     "metadata": {},
     "output_type": "execute_result"
    }
   ],
   "source": [
    "bmi_2.isnull().sum()"
   ]
  },
  {
   "cell_type": "code",
   "execution_count": 4,
   "metadata": {},
   "outputs": [
    {
     "data": {
      "text/plain": [
       "0"
      ]
     },
     "execution_count": 4,
     "metadata": {},
     "output_type": "execute_result"
    }
   ],
   "source": [
    "bmi_2.duplicated().sum()"
   ]
  },
  {
   "cell_type": "code",
   "execution_count": 5,
   "metadata": {},
   "outputs": [
    {
     "name": "stdout",
     "output_type": "stream",
     "text": [
      "<class 'pandas.core.frame.DataFrame'>\n",
      "RangeIndex: 741 entries, 0 to 740\n",
      "Data columns (total 5 columns):\n",
      " #   Column    Non-Null Count  Dtype  \n",
      "---  ------    --------------  -----  \n",
      " 0   Age       741 non-null    int64  \n",
      " 1   Height    741 non-null    float64\n",
      " 2   Weight    741 non-null    float64\n",
      " 3   Bmi       741 non-null    float64\n",
      " 4   BmiClass  741 non-null    object \n",
      "dtypes: float64(3), int64(1), object(1)\n",
      "memory usage: 29.1+ KB\n"
     ]
    }
   ],
   "source": [
    "bmi_2.info()"
   ]
  },
  {
   "cell_type": "code",
   "execution_count": 6,
   "metadata": {},
   "outputs": [
    {
     "data": {
      "text/plain": [
       "Age          47\n",
       "Height      107\n",
       "Weight      451\n",
       "Bmi         672\n",
       "BmiClass      6\n",
       "dtype: int64"
      ]
     },
     "execution_count": 6,
     "metadata": {},
     "output_type": "execute_result"
    }
   ],
   "source": [
    "bmi_2.nunique()"
   ]
  },
  {
   "cell_type": "code",
   "execution_count": 7,
   "metadata": {},
   "outputs": [
    {
     "data": {
      "text/plain": [
       "BmiClass\n",
       "Normal Weight    342\n",
       "Overweight       166\n",
       "Underweight       96\n",
       "Obese Class 3     62\n",
       "Obese Class 2     55\n",
       "Obese Class 1     20\n",
       "Name: count, dtype: int64"
      ]
     },
     "execution_count": 7,
     "metadata": {},
     "output_type": "execute_result"
    }
   ],
   "source": [
    "bmi_2['BmiClass'].value_counts()"
   ]
  },
  {
   "cell_type": "code",
   "execution_count": 8,
   "metadata": {},
   "outputs": [
    {
     "data": {
      "text/html": [
       "<div>\n",
       "<style scoped>\n",
       "    .dataframe tbody tr th:only-of-type {\n",
       "        vertical-align: middle;\n",
       "    }\n",
       "\n",
       "    .dataframe tbody tr th {\n",
       "        vertical-align: top;\n",
       "    }\n",
       "\n",
       "    .dataframe thead th {\n",
       "        text-align: right;\n",
       "    }\n",
       "</style>\n",
       "<table border=\"1\" class=\"dataframe\">\n",
       "  <thead>\n",
       "    <tr style=\"text-align: right;\">\n",
       "      <th></th>\n",
       "      <th>Age</th>\n",
       "      <th>Height</th>\n",
       "      <th>Weight</th>\n",
       "      <th>Bmi</th>\n",
       "    </tr>\n",
       "  </thead>\n",
       "  <tbody>\n",
       "    <tr>\n",
       "      <th>count</th>\n",
       "      <td>741.000000</td>\n",
       "      <td>741.000000</td>\n",
       "      <td>741.000000</td>\n",
       "      <td>741.000000</td>\n",
       "    </tr>\n",
       "    <tr>\n",
       "      <th>mean</th>\n",
       "      <td>31.618084</td>\n",
       "      <td>1.709427</td>\n",
       "      <td>78.412497</td>\n",
       "      <td>26.365427</td>\n",
       "    </tr>\n",
       "    <tr>\n",
       "      <th>std</th>\n",
       "      <td>11.655466</td>\n",
       "      <td>0.085974</td>\n",
       "      <td>32.254547</td>\n",
       "      <td>9.223191</td>\n",
       "    </tr>\n",
       "    <tr>\n",
       "      <th>min</th>\n",
       "      <td>15.000000</td>\n",
       "      <td>1.460000</td>\n",
       "      <td>25.900000</td>\n",
       "      <td>12.150497</td>\n",
       "    </tr>\n",
       "    <tr>\n",
       "      <th>25%</th>\n",
       "      <td>22.000000</td>\n",
       "      <td>1.670000</td>\n",
       "      <td>63.000000</td>\n",
       "      <td>22.129740</td>\n",
       "    </tr>\n",
       "    <tr>\n",
       "      <th>50%</th>\n",
       "      <td>29.000000</td>\n",
       "      <td>1.721000</td>\n",
       "      <td>72.900000</td>\n",
       "      <td>24.132412</td>\n",
       "    </tr>\n",
       "    <tr>\n",
       "      <th>75%</th>\n",
       "      <td>40.000000</td>\n",
       "      <td>1.751000</td>\n",
       "      <td>83.300000</td>\n",
       "      <td>27.249306</td>\n",
       "    </tr>\n",
       "    <tr>\n",
       "      <th>max</th>\n",
       "      <td>61.000000</td>\n",
       "      <td>2.070000</td>\n",
       "      <td>270.000000</td>\n",
       "      <td>66.301350</td>\n",
       "    </tr>\n",
       "  </tbody>\n",
       "</table>\n",
       "</div>"
      ],
      "text/plain": [
       "              Age      Height      Weight         Bmi\n",
       "count  741.000000  741.000000  741.000000  741.000000\n",
       "mean    31.618084    1.709427   78.412497   26.365427\n",
       "std     11.655466    0.085974   32.254547    9.223191\n",
       "min     15.000000    1.460000   25.900000   12.150497\n",
       "25%     22.000000    1.670000   63.000000   22.129740\n",
       "50%     29.000000    1.721000   72.900000   24.132412\n",
       "75%     40.000000    1.751000   83.300000   27.249306\n",
       "max     61.000000    2.070000  270.000000   66.301350"
      ]
     },
     "execution_count": 8,
     "metadata": {},
     "output_type": "execute_result"
    }
   ],
   "source": [
    "bmi_2.describe()"
   ]
  },
  {
   "cell_type": "code",
   "execution_count": 9,
   "metadata": {},
   "outputs": [],
   "source": [
    "from sklearn.preprocessing import LabelEncoder\n",
    "\n",
    "label_encoder = LabelEncoder()\n",
    "\n",
    "bmi_2['BmiClass'] = label_encoder.fit_transform(bmi_2['BmiClass'])"
   ]
  },
  {
   "cell_type": "code",
   "execution_count": 10,
   "metadata": {},
   "outputs": [
    {
     "name": "stdout",
     "output_type": "stream",
     "text": [
      "Mapping antara label sebelum dan sesudah encoding:\n",
      "{'Normal Weight': 0, 'Obese Class 1': 1, 'Obese Class 2': 2, 'Obese Class 3': 3, 'Overweight': 4, 'Underweight': 5}\n"
     ]
    }
   ],
   "source": [
    "label_mapping = dict(zip(label_encoder.classes_, label_encoder.transform(label_encoder.classes_)))\n",
    "\n",
    "print(\"Mapping antara label sebelum dan sesudah encoding:\")\n",
    "print(label_mapping)"
   ]
  },
  {
   "cell_type": "code",
   "execution_count": 11,
   "metadata": {},
   "outputs": [
    {
     "data": {
      "text/html": [
       "<div>\n",
       "<style scoped>\n",
       "    .dataframe tbody tr th:only-of-type {\n",
       "        vertical-align: middle;\n",
       "    }\n",
       "\n",
       "    .dataframe tbody tr th {\n",
       "        vertical-align: top;\n",
       "    }\n",
       "\n",
       "    .dataframe thead th {\n",
       "        text-align: right;\n",
       "    }\n",
       "</style>\n",
       "<table border=\"1\" class=\"dataframe\">\n",
       "  <thead>\n",
       "    <tr style=\"text-align: right;\">\n",
       "      <th></th>\n",
       "      <th>Age</th>\n",
       "      <th>Height</th>\n",
       "      <th>Weight</th>\n",
       "      <th>Bmi</th>\n",
       "      <th>BmiClass</th>\n",
       "    </tr>\n",
       "  </thead>\n",
       "  <tbody>\n",
       "    <tr>\n",
       "      <th>Age</th>\n",
       "      <td>1.000000</td>\n",
       "      <td>0.023128</td>\n",
       "      <td>0.109610</td>\n",
       "      <td>0.139157</td>\n",
       "      <td>0.256211</td>\n",
       "    </tr>\n",
       "    <tr>\n",
       "      <th>Height</th>\n",
       "      <td>0.023128</td>\n",
       "      <td>1.000000</td>\n",
       "      <td>0.607672</td>\n",
       "      <td>0.433309</td>\n",
       "      <td>-0.287894</td>\n",
       "    </tr>\n",
       "    <tr>\n",
       "      <th>Weight</th>\n",
       "      <td>0.109610</td>\n",
       "      <td>0.607672</td>\n",
       "      <td>1.000000</td>\n",
       "      <td>0.966921</td>\n",
       "      <td>0.039050</td>\n",
       "    </tr>\n",
       "    <tr>\n",
       "      <th>Bmi</th>\n",
       "      <td>0.139157</td>\n",
       "      <td>0.433309</td>\n",
       "      <td>0.966921</td>\n",
       "      <td>1.000000</td>\n",
       "      <td>0.073826</td>\n",
       "    </tr>\n",
       "    <tr>\n",
       "      <th>BmiClass</th>\n",
       "      <td>0.256211</td>\n",
       "      <td>-0.287894</td>\n",
       "      <td>0.039050</td>\n",
       "      <td>0.073826</td>\n",
       "      <td>1.000000</td>\n",
       "    </tr>\n",
       "  </tbody>\n",
       "</table>\n",
       "</div>"
      ],
      "text/plain": [
       "               Age    Height    Weight       Bmi  BmiClass\n",
       "Age       1.000000  0.023128  0.109610  0.139157  0.256211\n",
       "Height    0.023128  1.000000  0.607672  0.433309 -0.287894\n",
       "Weight    0.109610  0.607672  1.000000  0.966921  0.039050\n",
       "Bmi       0.139157  0.433309  0.966921  1.000000  0.073826\n",
       "BmiClass  0.256211 -0.287894  0.039050  0.073826  1.000000"
      ]
     },
     "execution_count": 11,
     "metadata": {},
     "output_type": "execute_result"
    }
   ],
   "source": [
    "bmi_2.corr()"
   ]
  },
  {
   "cell_type": "markdown",
   "metadata": {},
   "source": [
    "# split"
   ]
  },
  {
   "cell_type": "code",
   "execution_count": 12,
   "metadata": {},
   "outputs": [],
   "source": [
    "from sklearn.model_selection import train_test_split\n",
    "from sklearn.metrics import confusion_matrix\n",
    "from sklearn.metrics import classification_report\n"
   ]
  },
  {
   "cell_type": "code",
   "execution_count": 13,
   "metadata": {},
   "outputs": [
    {
     "data": {
      "text/plain": [
       "Index(['Age', 'Height', 'Weight', 'Bmi', 'BmiClass'], dtype='object')"
      ]
     },
     "execution_count": 13,
     "metadata": {},
     "output_type": "execute_result"
    }
   ],
   "source": [
    "bmi_2.columns"
   ]
  },
  {
   "cell_type": "code",
   "execution_count": 14,
   "metadata": {},
   "outputs": [],
   "source": [
    "feature = ['Age', 'Height', 'Weight', 'Bmi']\n",
    "target = ['BmiClass']"
   ]
  },
  {
   "cell_type": "code",
   "execution_count": 15,
   "metadata": {},
   "outputs": [],
   "source": [
    "x = bmi_2[feature]\n",
    "y = bmi_2[target]\n",
    "\n",
    "x_train, x_test, y_train, y_test = train_test_split(x,y, test_size=0.2, random_state=42)"
   ]
  },
  {
   "cell_type": "markdown",
   "metadata": {},
   "source": [
    "# normalisasi"
   ]
  },
  {
   "cell_type": "code",
   "execution_count": 16,
   "metadata": {},
   "outputs": [],
   "source": [
    "from sklearn.preprocessing import StandardScaler\n",
    "\n",
    "scaler = StandardScaler()\n",
    "X_train = scaler.fit_transform(x_train)\n",
    "X_test = scaler.fit_transform(x_test)"
   ]
  },
  {
   "cell_type": "markdown",
   "metadata": {},
   "source": [
    "# development model"
   ]
  },
  {
   "cell_type": "code",
   "execution_count": 17,
   "metadata": {},
   "outputs": [
    {
     "name": "stderr",
     "output_type": "stream",
     "text": [
      "C:\\Users\\Lenovo\\AppData\\Roaming\\Python\\Python312\\site-packages\\keras\\src\\layers\\core\\dense.py:87: UserWarning: Do not pass an `input_shape`/`input_dim` argument to a layer. When using Sequential models, prefer using an `Input(shape)` object as the first layer in the model instead.\n",
      "  super().__init__(activity_regularizer=activity_regularizer, **kwargs)\n"
     ]
    },
    {
     "name": "stdout",
     "output_type": "stream",
     "text": [
      "Epoch 1/100\n",
      "19/19 - 3s - 152ms/step - accuracy: 0.2162 - loss: 1.8031\n",
      "Epoch 2/100\n",
      "19/19 - 0s - 7ms/step - accuracy: 0.4696 - loss: 1.6821\n",
      "Epoch 3/100\n",
      "19/19 - 0s - 6ms/step - accuracy: 0.5912 - loss: 1.5553\n",
      "Epoch 4/100\n",
      "19/19 - 0s - 6ms/step - accuracy: 0.6301 - loss: 1.4263\n",
      "Epoch 5/100\n",
      "19/19 - 0s - 6ms/step - accuracy: 0.6402 - loss: 1.3012\n",
      "Epoch 6/100\n",
      "19/19 - 0s - 6ms/step - accuracy: 0.6436 - loss: 1.1830\n",
      "Epoch 7/100\n",
      "19/19 - 0s - 7ms/step - accuracy: 0.6706 - loss: 1.0754\n",
      "Epoch 8/100\n",
      "19/19 - 0s - 5ms/step - accuracy: 0.6926 - loss: 0.9824\n",
      "Epoch 9/100\n",
      "19/19 - 0s - 6ms/step - accuracy: 0.7061 - loss: 0.9042\n",
      "Epoch 10/100\n",
      "19/19 - 0s - 5ms/step - accuracy: 0.7196 - loss: 0.8393\n",
      "Epoch 11/100\n",
      "19/19 - 0s - 5ms/step - accuracy: 0.7331 - loss: 0.7865\n",
      "Epoch 12/100\n",
      "19/19 - 0s - 5ms/step - accuracy: 0.7416 - loss: 0.7406\n",
      "Epoch 13/100\n",
      "19/19 - 0s - 5ms/step - accuracy: 0.7399 - loss: 0.7009\n",
      "Epoch 14/100\n",
      "19/19 - 0s - 5ms/step - accuracy: 0.7449 - loss: 0.6666\n",
      "Epoch 15/100\n",
      "19/19 - 0s - 5ms/step - accuracy: 0.7568 - loss: 0.6357\n",
      "Epoch 16/100\n",
      "19/19 - 0s - 5ms/step - accuracy: 0.7635 - loss: 0.6076\n",
      "Epoch 17/100\n",
      "19/19 - 0s - 5ms/step - accuracy: 0.7736 - loss: 0.5820\n",
      "Epoch 18/100\n",
      "19/19 - 0s - 5ms/step - accuracy: 0.7720 - loss: 0.5595\n",
      "Epoch 19/100\n",
      "19/19 - 0s - 5ms/step - accuracy: 0.7889 - loss: 0.5383\n",
      "Epoch 20/100\n",
      "19/19 - 0s - 5ms/step - accuracy: 0.8041 - loss: 0.5184\n",
      "Epoch 21/100\n",
      "19/19 - 0s - 5ms/step - accuracy: 0.8277 - loss: 0.5020\n",
      "Epoch 22/100\n",
      "19/19 - 0s - 5ms/step - accuracy: 0.8311 - loss: 0.4847\n",
      "Epoch 23/100\n",
      "19/19 - 0s - 5ms/step - accuracy: 0.8378 - loss: 0.4689\n",
      "Epoch 24/100\n",
      "19/19 - 0s - 5ms/step - accuracy: 0.8480 - loss: 0.4551\n",
      "Epoch 25/100\n",
      "19/19 - 0s - 5ms/step - accuracy: 0.8547 - loss: 0.4408\n",
      "Epoch 26/100\n",
      "19/19 - 0s - 5ms/step - accuracy: 0.8581 - loss: 0.4277\n",
      "Epoch 27/100\n",
      "19/19 - 0s - 5ms/step - accuracy: 0.8632 - loss: 0.4169\n",
      "Epoch 28/100\n",
      "19/19 - 0s - 5ms/step - accuracy: 0.8632 - loss: 0.4023\n",
      "Epoch 29/100\n",
      "19/19 - 0s - 5ms/step - accuracy: 0.8666 - loss: 0.3928\n",
      "Epoch 30/100\n",
      "19/19 - 0s - 5ms/step - accuracy: 0.8682 - loss: 0.3793\n",
      "Epoch 31/100\n",
      "19/19 - 0s - 5ms/step - accuracy: 0.8716 - loss: 0.3681\n",
      "Epoch 32/100\n",
      "19/19 - 0s - 5ms/step - accuracy: 0.8750 - loss: 0.3580\n",
      "Epoch 33/100\n",
      "19/19 - 0s - 5ms/step - accuracy: 0.8767 - loss: 0.3484\n",
      "Epoch 34/100\n",
      "19/19 - 0s - 5ms/step - accuracy: 0.8750 - loss: 0.3387\n",
      "Epoch 35/100\n",
      "19/19 - 0s - 5ms/step - accuracy: 0.8818 - loss: 0.3296\n",
      "Epoch 36/100\n",
      "19/19 - 0s - 5ms/step - accuracy: 0.8851 - loss: 0.3220\n",
      "Epoch 37/100\n",
      "19/19 - 0s - 5ms/step - accuracy: 0.8868 - loss: 0.3130\n",
      "Epoch 38/100\n",
      "19/19 - 0s - 5ms/step - accuracy: 0.8868 - loss: 0.3041\n",
      "Epoch 39/100\n",
      "19/19 - 0s - 5ms/step - accuracy: 0.8936 - loss: 0.2961\n",
      "Epoch 40/100\n",
      "19/19 - 0s - 5ms/step - accuracy: 0.8919 - loss: 0.2873\n",
      "Epoch 41/100\n",
      "19/19 - 0s - 5ms/step - accuracy: 0.8919 - loss: 0.2811\n",
      "Epoch 42/100\n",
      "19/19 - 0s - 5ms/step - accuracy: 0.9003 - loss: 0.2733\n",
      "Epoch 43/100\n",
      "19/19 - 0s - 5ms/step - accuracy: 0.9037 - loss: 0.2655\n",
      "Epoch 44/100\n",
      "19/19 - 0s - 5ms/step - accuracy: 0.9071 - loss: 0.2584\n",
      "Epoch 45/100\n",
      "19/19 - 0s - 5ms/step - accuracy: 0.9105 - loss: 0.2536\n",
      "Epoch 46/100\n",
      "19/19 - 0s - 5ms/step - accuracy: 0.9105 - loss: 0.2476\n",
      "Epoch 47/100\n",
      "19/19 - 0s - 5ms/step - accuracy: 0.9155 - loss: 0.2397\n",
      "Epoch 48/100\n",
      "19/19 - 0s - 5ms/step - accuracy: 0.9206 - loss: 0.2350\n",
      "Epoch 49/100\n",
      "19/19 - 0s - 5ms/step - accuracy: 0.9206 - loss: 0.2302\n",
      "Epoch 50/100\n",
      "19/19 - 0s - 5ms/step - accuracy: 0.9240 - loss: 0.2237\n",
      "Epoch 51/100\n",
      "19/19 - 0s - 5ms/step - accuracy: 0.9257 - loss: 0.2178\n",
      "Epoch 52/100\n",
      "19/19 - 0s - 5ms/step - accuracy: 0.9307 - loss: 0.2110\n",
      "Epoch 53/100\n",
      "19/19 - 0s - 5ms/step - accuracy: 0.9324 - loss: 0.2062\n",
      "Epoch 54/100\n",
      "19/19 - 0s - 5ms/step - accuracy: 0.9324 - loss: 0.2013\n",
      "Epoch 55/100\n",
      "19/19 - 0s - 5ms/step - accuracy: 0.9307 - loss: 0.1963\n",
      "Epoch 56/100\n",
      "19/19 - 0s - 5ms/step - accuracy: 0.9324 - loss: 0.1909\n",
      "Epoch 57/100\n",
      "19/19 - 0s - 5ms/step - accuracy: 0.9358 - loss: 0.1858\n",
      "Epoch 58/100\n",
      "19/19 - 0s - 5ms/step - accuracy: 0.9358 - loss: 0.1821\n",
      "Epoch 59/100\n",
      "19/19 - 0s - 5ms/step - accuracy: 0.9358 - loss: 0.1771\n",
      "Epoch 60/100\n",
      "19/19 - 0s - 5ms/step - accuracy: 0.9409 - loss: 0.1733\n",
      "Epoch 61/100\n",
      "19/19 - 0s - 5ms/step - accuracy: 0.9409 - loss: 0.1695\n",
      "Epoch 62/100\n",
      "19/19 - 0s - 5ms/step - accuracy: 0.9409 - loss: 0.1650\n",
      "Epoch 63/100\n",
      "19/19 - 0s - 5ms/step - accuracy: 0.9426 - loss: 0.1610\n",
      "Epoch 64/100\n",
      "19/19 - 0s - 5ms/step - accuracy: 0.9459 - loss: 0.1582\n",
      "Epoch 65/100\n",
      "19/19 - 0s - 5ms/step - accuracy: 0.9493 - loss: 0.1540\n",
      "Epoch 66/100\n",
      "19/19 - 0s - 5ms/step - accuracy: 0.9510 - loss: 0.1523\n",
      "Epoch 67/100\n",
      "19/19 - 0s - 5ms/step - accuracy: 0.9510 - loss: 0.1476\n",
      "Epoch 68/100\n",
      "19/19 - 0s - 5ms/step - accuracy: 0.9510 - loss: 0.1458\n",
      "Epoch 69/100\n",
      "19/19 - 0s - 5ms/step - accuracy: 0.9527 - loss: 0.1413\n",
      "Epoch 70/100\n",
      "19/19 - 0s - 5ms/step - accuracy: 0.9561 - loss: 0.1398\n",
      "Epoch 71/100\n",
      "19/19 - 0s - 5ms/step - accuracy: 0.9510 - loss: 0.1365\n",
      "Epoch 72/100\n",
      "19/19 - 0s - 5ms/step - accuracy: 0.9544 - loss: 0.1348\n",
      "Epoch 73/100\n",
      "19/19 - 0s - 5ms/step - accuracy: 0.9611 - loss: 0.1322\n",
      "Epoch 74/100\n",
      "19/19 - 0s - 16ms/step - accuracy: 0.9544 - loss: 0.1302\n",
      "Epoch 75/100\n",
      "19/19 - 0s - 5ms/step - accuracy: 0.9544 - loss: 0.1291\n",
      "Epoch 76/100\n",
      "19/19 - 0s - 5ms/step - accuracy: 0.9595 - loss: 0.1260\n",
      "Epoch 77/100\n",
      "19/19 - 0s - 5ms/step - accuracy: 0.9578 - loss: 0.1229\n",
      "Epoch 78/100\n",
      "19/19 - 0s - 6ms/step - accuracy: 0.9544 - loss: 0.1211\n",
      "Epoch 79/100\n",
      "19/19 - 0s - 5ms/step - accuracy: 0.9595 - loss: 0.1202\n",
      "Epoch 80/100\n",
      "19/19 - 0s - 5ms/step - accuracy: 0.9611 - loss: 0.1172\n",
      "Epoch 81/100\n",
      "19/19 - 0s - 5ms/step - accuracy: 0.9696 - loss: 0.1149\n",
      "Epoch 82/100\n",
      "19/19 - 0s - 5ms/step - accuracy: 0.9595 - loss: 0.1138\n",
      "Epoch 83/100\n",
      "19/19 - 0s - 5ms/step - accuracy: 0.9611 - loss: 0.1114\n",
      "Epoch 84/100\n",
      "19/19 - 0s - 5ms/step - accuracy: 0.9696 - loss: 0.1119\n",
      "Epoch 85/100\n",
      "19/19 - 0s - 5ms/step - accuracy: 0.9679 - loss: 0.1081\n",
      "Epoch 86/100\n",
      "19/19 - 0s - 5ms/step - accuracy: 0.9679 - loss: 0.1068\n",
      "Epoch 87/100\n",
      "19/19 - 0s - 5ms/step - accuracy: 0.9679 - loss: 0.1060\n",
      "Epoch 88/100\n",
      "19/19 - 0s - 5ms/step - accuracy: 0.9679 - loss: 0.1045\n",
      "Epoch 89/100\n",
      "19/19 - 0s - 5ms/step - accuracy: 0.9645 - loss: 0.1025\n",
      "Epoch 90/100\n",
      "19/19 - 0s - 6ms/step - accuracy: 0.9747 - loss: 0.1032\n",
      "Epoch 91/100\n",
      "19/19 - 0s - 5ms/step - accuracy: 0.9747 - loss: 0.1001\n",
      "Epoch 92/100\n",
      "19/19 - 0s - 5ms/step - accuracy: 0.9611 - loss: 0.0984\n",
      "Epoch 93/100\n",
      "19/19 - 0s - 5ms/step - accuracy: 0.9780 - loss: 0.0979\n",
      "Epoch 94/100\n",
      "19/19 - 0s - 5ms/step - accuracy: 0.9780 - loss: 0.0960\n",
      "Epoch 95/100\n",
      "19/19 - 0s - 5ms/step - accuracy: 0.9780 - loss: 0.0937\n",
      "Epoch 96/100\n",
      "19/19 - 0s - 5ms/step - accuracy: 0.9780 - loss: 0.0938\n",
      "Epoch 97/100\n",
      "19/19 - 0s - 5ms/step - accuracy: 0.9764 - loss: 0.0940\n",
      "Epoch 98/100\n",
      "19/19 - 0s - 5ms/step - accuracy: 0.9780 - loss: 0.0903\n",
      "Epoch 99/100\n",
      "19/19 - 0s - 5ms/step - accuracy: 0.9797 - loss: 0.0894\n",
      "Epoch 100/100\n",
      "19/19 - 0s - 6ms/step - accuracy: 0.9814 - loss: 0.0882\n"
     ]
    },
    {
     "data": {
      "text/plain": [
       "<keras.src.callbacks.history.History at 0x29c4d8217c0>"
      ]
     },
     "execution_count": 17,
     "metadata": {},
     "output_type": "execute_result"
    }
   ],
   "source": [
    "from tensorflow.keras.models import Sequential\n",
    "from tensorflow.keras.layers import Dense\n",
    "\n",
    "model = Sequential()\n",
    "\n",
    "model.add(Dense(16, input_dim=4, activation='relu'))\n",
    "model.add(Dense(16, activation='relu'))\n",
    "model.add(Dense(6, activation='softmax'))\n",
    "\n",
    "model.compile(loss = 'sparse_categorical_crossentropy', optimizer='adam', metrics=['accuracy'])\n",
    "\n",
    "model.fit(X_train, y_train, epochs=100, verbose=2)"
   ]
  },
  {
   "cell_type": "code",
   "execution_count": 18,
   "metadata": {},
   "outputs": [
    {
     "name": "stdout",
     "output_type": "stream",
     "text": [
      "\u001b[1m5/5\u001b[0m \u001b[32m━━━━━━━━━━━━━━━━━━━━\u001b[0m\u001b[37m\u001b[0m \u001b[1m0s\u001b[0m 3ms/step - accuracy: 0.9621 - loss: 0.1092  \n",
      "Test Accuracy: 0.9463\n"
     ]
    }
   ],
   "source": [
    "loss, accuracy = model.evaluate(X_test, y_test)\n",
    "print(f\"Test Accuracy: {accuracy:.4f}\")"
   ]
  },
  {
   "cell_type": "code",
   "execution_count": 19,
   "metadata": {},
   "outputs": [
    {
     "data": {
      "text/plain": [
       "27.02"
      ]
     },
     "execution_count": 19,
     "metadata": {},
     "output_type": "execute_result"
    }
   ],
   "source": [
    "# menghitung BMI\n",
    "age = 25\n",
    "bb = 79 # dalam kg\n",
    "tb = 1.71 # dalam meter\n",
    "bmi = bb / (tb**2)\n",
    "\n",
    "# bmi 2 angka dibelakang koma\n",
    "bmi = round(bmi,2)\n",
    "bmi"
   ]
  },
  {
   "cell_type": "code",
   "execution_count": 20,
   "metadata": {},
   "outputs": [
    {
     "name": "stdout",
     "output_type": "stream",
     "text": [
      "\u001b[1m1/1\u001b[0m \u001b[32m━━━━━━━━━━━━━━━━━━━━\u001b[0m\u001b[37m\u001b[0m \u001b[1m0s\u001b[0m 109ms/step"
     ]
    },
    {
     "name": "stderr",
     "output_type": "stream",
     "text": [
      "C:\\Users\\Lenovo\\AppData\\Roaming\\Python\\Python312\\site-packages\\sklearn\\base.py:493: UserWarning: X does not have valid feature names, but StandardScaler was fitted with feature names\n",
      "  warnings.warn(\n"
     ]
    },
    {
     "name": "stdout",
     "output_type": "stream",
     "text": [
      "\u001b[1m1/1\u001b[0m \u001b[32m━━━━━━━━━━━━━━━━━━━━\u001b[0m\u001b[37m\u001b[0m \u001b[1m0s\u001b[0m 111ms/step\n",
      "BMI: 27.02\n",
      "Predicted Index: 4\n",
      "Overweight\n"
     ]
    }
   ],
   "source": [
    "new_data = scaler.transform([[age, tb, bb, bmi]])  # \n",
    "predicted_probabilities  = model.predict(new_data)\n",
    "predicted_index = np.argmax(predicted_probabilities)\n",
    "\n",
    "\n",
    "\n",
    "bmiClass_dict = {'Normal Weight': 0, \n",
    "                 'Obese Class 1': 1, \n",
    "                 'Obese Class 2': 2, \n",
    "                 'Obese Class 3': 3, \n",
    "                 'Overweight': 4, \n",
    "                 'Underweight': 5}\n",
    "\n",
    "class_bmi = [k for k,v in bmiClass_dict.items() if v==predicted_index]\n",
    "\n",
    "print(f'BMI: {round(bmi, 2)}')\n",
    "print(f'Predicted Index: {predicted_index}')\n",
    "if class_bmi:\n",
    "    print(class_bmi[0])\n",
    "else :\n",
    "    print('class bmi tidak ditemukan')"
   ]
  },
  {
   "cell_type": "code",
   "execution_count": 21,
   "metadata": {},
   "outputs": [
    {
     "name": "stderr",
     "output_type": "stream",
     "text": [
      "WARNING:absl:You are saving your model as an HDF5 file via `model.save()` or `keras.saving.save_model(model)`. This file format is considered legacy. We recommend using instead the native Keras format, e.g. `model.save('my_model.keras')` or `keras.saving.save_model(model, 'my_model.keras')`. \n"
     ]
    }
   ],
   "source": [
    "model.save('model_bmi.h5')"
   ]
  }
 ],
 "metadata": {
  "kernelspec": {
   "display_name": "Python 3",
   "language": "python",
   "name": "python3"
  },
  "language_info": {
   "codemirror_mode": {
    "name": "ipython",
    "version": 3
   },
   "file_extension": ".py",
   "mimetype": "text/x-python",
   "name": "python",
   "nbconvert_exporter": "python",
   "pygments_lexer": "ipython3",
   "version": "3.12.5"
  }
 },
 "nbformat": 4,
 "nbformat_minor": 2
}
